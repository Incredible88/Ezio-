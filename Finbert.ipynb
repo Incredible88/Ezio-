{
  "cells": [
    {
      "cell_type": "markdown",
      "metadata": {
        "id": "view-in-github",
        "colab_type": "text"
      },
      "source": [
        "<a href=\"https://colab.research.google.com/github/Incredible88/Ezio-/blob/master/Finbert.ipynb\" target=\"_parent\"><img src=\"https://colab.research.google.com/assets/colab-badge.svg\" alt=\"Open In Colab\"/></a>"
      ]
    },
    {
      "cell_type": "markdown",
      "source": [
        "# Get start"
      ],
      "metadata": {
        "id": "bIth-FRgTAgc"
      }
    },
    {
      "cell_type": "code",
      "execution_count": 1,
      "metadata": {
        "id": "VVsfLhxlVGZ1"
      },
      "outputs": [],
      "source": [
        "import pandas as pd\n",
        "import numpy as np\n",
        "from tqdm import tqdm"
      ]
    },
    {
      "cell_type": "code",
      "execution_count": null,
      "metadata": {
        "colab": {
          "base_uri": "https://localhost:8080/"
        },
        "id": "gRLHuA8b9tj1",
        "outputId": "dad0bdb8-14b3-4c9d-acad-1de0c990d75b"
      },
      "outputs": [
        {
          "name": "stdout",
          "output_type": "stream",
          "text": [
            "Looking in indexes: https://pypi.org/simple, https://us-python.pkg.dev/colab-wheels/public/simple/\n",
            "Requirement already satisfied: chardet in /usr/local/lib/python3.9/dist-packages (4.0.0)\n"
          ]
        }
      ],
      "source": [
        "pip install chardet"
      ]
    },
    {
      "cell_type": "code",
      "execution_count": null,
      "metadata": {
        "id": "kwLLWbiC9XFd"
      },
      "outputs": [],
      "source": [
        "import chardet\n",
        "with open('/content/FOMC_minutes.csv', 'rb') as f:\n",
        "    result = chardet.detect(f.read())\n",
        "encoding = result['encoding']"
      ]
    },
    {
      "cell_type": "code",
      "execution_count": null,
      "metadata": {
        "colab": {
          "base_uri": "https://localhost:8080/",
          "height": 35
        },
        "id": "X3MPAfw7-EIb",
        "outputId": "cba7a826-9df5-4cee-fcc4-152902fbb898"
      },
      "outputs": [
        {
          "data": {
            "application/vnd.google.colaboratory.intrinsic+json": {
              "type": "string"
            },
            "text/plain": [
              "'Windows-1252'"
            ]
          },
          "execution_count": 9,
          "metadata": {},
          "output_type": "execute_result"
        }
      ],
      "source": [
        "encoding"
      ]
    },
    {
      "cell_type": "markdown",
      "metadata": {
        "id": "-z5L4Dj1C5d1"
      },
      "source": [
        "# Load minutes data"
      ]
    },
    {
      "cell_type": "code",
      "execution_count": null,
      "metadata": {
        "id": "W6AdqswNU5UF"
      },
      "outputs": [],
      "source": [
        "text = pd.read_csv('/FOMC_minutes.csv',encoding='Windows-1252')"
      ]
    },
    {
      "cell_type": "code",
      "execution_count": null,
      "metadata": {
        "colab": {
          "base_uri": "https://localhost:8080/"
        },
        "id": "YeeYvcCclo3d",
        "outputId": "0c2bd277-2e78-4c7c-f2ed-0f9d545676fd"
      },
      "outputs": [
        {
          "name": "stdout",
          "output_type": "stream",
          "text": [
            "<class 'pandas.core.frame.DataFrame'>\n",
            "RangeIndex: 382 entries, 0 to 381\n",
            "Data columns (total 5 columns):\n",
            " #   Column    Non-Null Count  Dtype \n",
            "---  ------    --------------  ----- \n",
            " 0   Month     382 non-null    int64 \n",
            " 1   Day       382 non-null    int64 \n",
            " 2   Year      382 non-null    int64 \n",
            " 3   date      382 non-null    object\n",
            " 4   sentence  382 non-null    object\n",
            "dtypes: int64(3), object(2)\n",
            "memory usage: 15.0+ KB\n"
          ]
        }
      ],
      "source": [
        "text.info()"
      ]
    },
    {
      "cell_type": "markdown",
      "metadata": {
        "id": "03l5gT51-YgN"
      },
      "source": [
        "# load Finbert "
      ]
    },
    {
      "cell_type": "code",
      "execution_count": 2,
      "metadata": {
        "colab": {
          "base_uri": "https://localhost:8080/",
          "height": 549,
          "referenced_widgets": [
            "ade33a8621a0471cbf88e8d71c0766f1",
            "0eba8781f3254abfb112e6f7a4fe914f",
            "c206b89964eb4c829f214c6a124cd4eb",
            "7998424328b840b6b96e7454cb64a6fc",
            "379a7f41d39e46f8b9a026ed73721ece",
            "1f9fbeb96c3a4267966aa5e3777f2fab",
            "8467944264654fbdb4297c7a7b49271f",
            "979f24aff60246f7af200f4458e66abc",
            "7d0ceec9c9cb4d989adef6c0229cc5a5",
            "a848878f806f4b0aad2b6403f74b990b",
            "8e5db6dd559a46638570cd60da01c37d",
            "71df292481714f2ea9a00be5a0cdb123",
            "a41f37b7d6394a359b1bff40053131a2",
            "6056794260c44c35853d744e459faea9",
            "c6972e45540b405087b39cab5914a968",
            "4ffe944e3d5447bbaa0cdd6a4e79a0f0",
            "d583277353414bb6af195af80adc1b57",
            "bcf097765eca4398970b5836ec113b91",
            "b279ff7b7e5443b5b31a54f4dae3eade",
            "19492cad13364da3a8cc4b53ba552f7d",
            "d8205c46a1724aabb973b6dafa7dd4c0",
            "1589db3968784654be43a4e81f2f9bb7",
            "8f72719d874447058acef76bd120f4aa",
            "2b5a00e9bdb24850ad71660c5e823198",
            "374fb959aca24c95b39df441e0a06c22",
            "20f4b7503d3140b8908bfc8511dd6c52",
            "7a7d36d2c0384e49b4ee00b43a019060",
            "d2208e693f0047879f47c389fbc2e632",
            "cb70a2c7fca34d608dee8dc7a2f7cbc7",
            "bd443f4ecd0547489e15a1f8f64b492d",
            "d425e7e1976c45e4957e652b3de26960",
            "10e99b2d3d414af3b968820b6ad6910b",
            "912054b974474b25a323a9984f5250e5"
          ]
        },
        "id": "nCfMQTuo-K32",
        "outputId": "935a90cf-8933-4787-b52d-63565c3efd19"
      },
      "outputs": [
        {
          "output_type": "stream",
          "name": "stdout",
          "text": [
            "Looking in indexes: https://pypi.org/simple, https://us-python.pkg.dev/colab-wheels/public/simple/\n",
            "Collecting transformers\n",
            "  Downloading transformers-4.28.1-py3-none-any.whl (7.0 MB)\n",
            "\u001b[2K     \u001b[90m━━━━━━━━━━━━━━━━━━━━━━━━━━━━━━━━━━━━━━━━\u001b[0m \u001b[32m7.0/7.0 MB\u001b[0m \u001b[31m61.2 MB/s\u001b[0m eta \u001b[36m0:00:00\u001b[0m\n",
            "\u001b[?25hRequirement already satisfied: filelock in /usr/local/lib/python3.9/dist-packages (from transformers) (3.11.0)\n",
            "Requirement already satisfied: numpy>=1.17 in /usr/local/lib/python3.9/dist-packages (from transformers) (1.22.4)\n",
            "Requirement already satisfied: requests in /usr/local/lib/python3.9/dist-packages (from transformers) (2.27.1)\n",
            "Requirement already satisfied: pyyaml>=5.1 in /usr/local/lib/python3.9/dist-packages (from transformers) (6.0)\n",
            "Requirement already satisfied: tqdm>=4.27 in /usr/local/lib/python3.9/dist-packages (from transformers) (4.65.0)\n",
            "Collecting huggingface-hub<1.0,>=0.11.0\n",
            "  Downloading huggingface_hub-0.13.4-py3-none-any.whl (200 kB)\n",
            "\u001b[2K     \u001b[90m━━━━━━━━━━━━━━━━━━━━━━━━━━━━━━━━━━━━━━\u001b[0m \u001b[32m200.1/200.1 kB\u001b[0m \u001b[31m14.1 MB/s\u001b[0m eta \u001b[36m0:00:00\u001b[0m\n",
            "\u001b[?25hCollecting tokenizers!=0.11.3,<0.14,>=0.11.1\n",
            "  Downloading tokenizers-0.13.3-cp39-cp39-manylinux_2_17_x86_64.manylinux2014_x86_64.whl (7.8 MB)\n",
            "\u001b[2K     \u001b[90m━━━━━━━━━━━━━━━━━━━━━━━━━━━━━━━━━━━━━━━━\u001b[0m \u001b[32m7.8/7.8 MB\u001b[0m \u001b[31m50.4 MB/s\u001b[0m eta \u001b[36m0:00:00\u001b[0m\n",
            "\u001b[?25hRequirement already satisfied: packaging>=20.0 in /usr/local/lib/python3.9/dist-packages (from transformers) (23.1)\n",
            "Requirement already satisfied: regex!=2019.12.17 in /usr/local/lib/python3.9/dist-packages (from transformers) (2022.10.31)\n",
            "Requirement already satisfied: typing-extensions>=3.7.4.3 in /usr/local/lib/python3.9/dist-packages (from huggingface-hub<1.0,>=0.11.0->transformers) (4.5.0)\n",
            "Requirement already satisfied: urllib3<1.27,>=1.21.1 in /usr/local/lib/python3.9/dist-packages (from requests->transformers) (1.26.15)\n",
            "Requirement already satisfied: idna<4,>=2.5 in /usr/local/lib/python3.9/dist-packages (from requests->transformers) (3.4)\n",
            "Requirement already satisfied: charset-normalizer~=2.0.0 in /usr/local/lib/python3.9/dist-packages (from requests->transformers) (2.0.12)\n",
            "Requirement already satisfied: certifi>=2017.4.17 in /usr/local/lib/python3.9/dist-packages (from requests->transformers) (2022.12.7)\n",
            "Installing collected packages: tokenizers, huggingface-hub, transformers\n",
            "Successfully installed huggingface-hub-0.13.4 tokenizers-0.13.3 transformers-4.28.1\n"
          ]
        },
        {
          "output_type": "display_data",
          "data": {
            "text/plain": [
              "Downloading (…)lve/main/config.json:   0%|          | 0.00/533 [00:00<?, ?B/s]"
            ],
            "application/vnd.jupyter.widget-view+json": {
              "version_major": 2,
              "version_minor": 0,
              "model_id": "ade33a8621a0471cbf88e8d71c0766f1"
            }
          },
          "metadata": {}
        },
        {
          "output_type": "display_data",
          "data": {
            "text/plain": [
              "Downloading pytorch_model.bin:   0%|          | 0.00/439M [00:00<?, ?B/s]"
            ],
            "application/vnd.jupyter.widget-view+json": {
              "version_major": 2,
              "version_minor": 0,
              "model_id": "71df292481714f2ea9a00be5a0cdb123"
            }
          },
          "metadata": {}
        },
        {
          "output_type": "display_data",
          "data": {
            "text/plain": [
              "Downloading (…)solve/main/vocab.txt:   0%|          | 0.00/226k [00:00<?, ?B/s]"
            ],
            "application/vnd.jupyter.widget-view+json": {
              "version_major": 2,
              "version_minor": 0,
              "model_id": "8f72719d874447058acef76bd120f4aa"
            }
          },
          "metadata": {}
        }
      ],
      "source": [
        "!pip install transformers\n",
        "from transformers import BertTokenizer, BertForSequenceClassification, pipeline\n",
        "\n",
        "finbert = BertForSequenceClassification.from_pretrained('yiyanghkust/finbert-tone',num_labels=3)\n",
        "tokenizer = BertTokenizer.from_pretrained('yiyanghkust/finbert-tone')\n",
        "finbert = pipeline(\"text-classification\", model=finbert, tokenizer=tokenizer)\n"
      ]
    },
    {
      "cell_type": "markdown",
      "source": [
        "## Using nltk to split sentences"
      ],
      "metadata": {
        "id": "ALYVVwywTILb"
      }
    },
    {
      "cell_type": "code",
      "execution_count": null,
      "metadata": {
        "colab": {
          "base_uri": "https://localhost:8080/"
        },
        "id": "GKaRdvcTNBGA",
        "outputId": "3e75344c-a548-42b8-b174-c76d05707192"
      },
      "outputs": [
        {
          "name": "stderr",
          "output_type": "stream",
          "text": [
            "[nltk_data] Downloading package punkt to /root/nltk_data...\n",
            "[nltk_data]   Unzipping tokenizers/punkt.zip.\n"
          ]
        }
      ],
      "source": [
        "import nltk\n",
        "\n",
        "nltk.download('punkt')\n",
        "def tokenize_sentences(text):\n",
        "    return nltk.sent_tokenize(text)\n",
        "\n",
        "text['sentences'] = text['sentence'].apply(tokenize_sentences)\n",
        "\n",
        "sentences_list = text['sentences'].sum()"
      ]
    },
    {
      "cell_type": "code",
      "execution_count": null,
      "metadata": {
        "colab": {
          "base_uri": "https://localhost:8080/",
          "height": 157
        },
        "id": "QMZ-dnOxFnMo",
        "outputId": "86e204de-e6a7-4ab3-c09d-cdb3f2496d51"
      },
      "outputs": [
        {
          "data": {
            "application/vnd.google.colaboratory.intrinsic+json": {
              "type": "string"
            },
            "text/plain": [
              "'The Manager of the System Open Market Account reported on recent developments in foreign exchange markets. There were no open market operations in foreign currencies for the System\\'s account in the period since the previous meeting. The Manager also reported on developments in domestic financial markets and on System open market transactions in government securities and federal agency obligations during the period since the previous meeting. By unanimous vote, the Committee ratified these transactions.The information reviewed at this meeting suggested that underlying growth in aggregate demand remained solid, even though the expansion of real GDP was estimated to have slowed in the fourth quarter. Household spending rose smartly, outside of autos, and orders and shipments of nondefense capital goods in the business sector were generally quite strong. Housing markets showed some signs of cooling, but starts and sales remained at high levels. Industrial production posted moderate gains, even after excluding hurricane-related rebounds in some production categories, and private payrolls expanded at a firm rate on average. Headline consumer inflation had been held down by falling consumer energy prices; more recently, however, crude oil prices climbed back up to high levels. Meanwhile, core inflation had moved up a bit from low levels seen last summer.Labor demand expanded further in the fourth quarter, as private nonfarm payrolls showed large gains in November followed by more-modest gains in December. The average increase over those two months represented sturdy job gains, even after accounting for the likely catch-up in employment following Hurricanes Katrina and Rita. Several sectors, including manufacturing and several service groups, added vigorously to payrolls in December, but the total for the month was held down by employment declines in a number of sectors, such as retail trade and construction, where seasonal adjustment can be difficult this time of year. Aggregate hours fell slightly in December owing to a decrease in the workweek, but they rose over the fourth quarter as a whole. The unemployment rate edged down to 4.9 percent in part due to the labor force participation rate ticking down.Industrial production rose notably in November and December, boosted by partial recovery from the effects of the hurricanes. Production in the mining industry, which includes oil and gas extraction, increased sharply. Utilities output also popped up in December as temperatures turned unseasonably cold in the first half of the month. Abstracting from the effects of these special factors, underlying activity in the industrial sector advanced moderately. Modest production increases in most manufacturing categories in December, including high-tech, consumer goods, and business equipment, outweighed production declines in the motor vehicles and parts sector. The capacity utilization rate in manufacturing stood a bit above its level of one year ago and near its long-run average.Real personal consumption expenditures appeared to have increased only modestly in the fourth quarter, as spending on motor vehicles was restrained following a surge in the summer in response to manufacturers\\' price incentives. Outside of motor vehicles, consumption was brisk, supported by job growth, increases in personal income, and the decline in energy prices. Consumption was also likely supported by further gains in home values and equity prices that raised the ratio of household wealth to disposable income relative to that seen earlier in 2005. Consumer sentiment measured by surveys moved up in December and, judging by the preliminary reading of the Michigan Survey, edged up further in January.Activity in the housing market appeared to continue at high levels, although there were some indications of slowing. Single-family housing starts decreased markedly in December; however, this decline may have been due in part to unusually cold and wet weather in some areas of the country. Multifamily housing starts increased in December. Sales of new and existing homes remained at elevated levels but slowed somewhat toward the end of the year. Moreover, the stock of homes for sale increased to the upper end of ranges seen in recent years. Recent data on mortgage applications and survey measures of homebuying attitudes also pointed to some cooling in the housing market.Real outlays for equipment and software appeared to have slowed significantly in the fourth quarter, as expenditures for transportation and communications equipment reversed some of their earlier sharp increases. With few exceptions, however, new orders appeared to be quite strong, and order backlogs increased for several goods in the transportation sector. Underlying fundamentals continued to support gains in capital spending as business sector output expanded, firms remained flush with funds, and relative price declines pushed down the user cost of capital equipment. Anecdotal reports and surveys also indicated that businesses were optimistic about near-term capital spending plans. Vacancy rates for nonresidential properties drifted lower as construction expenditures on commercial and manufacturing structures remained well below recent peaks. However, spending on drilling and mining structures continued to increase strongly. Business investment in real nonfarm inventories increased moderately in the fourth quarter, boosted by a rapid accumulation of motor vehicle inventories. Outside of motor vehicles, stocks continued to rise slowly. The restrained growth in inventories in recent months suggested that firms outside the motor vehicle sector were intentionally keeping stockbuilding low; however, it could also have reflected an unanticipated increase in sales or supply interruptions following the hurricanes last fall. That said, the level of stocks appeared reasonably well aligned with demand in most industries.After increasing further in October, the U.S. international trade deficit narrowed somewhat in November. The reduction in the deficit reflected a modest increase in exports and a similar-sized decrease in imports that owed importantly to a decline in imports of oil. The firm pace of third-quarter GDP growth in foreign economies generally appeared to continue in the fourth quarter.Core consumer price inflation remained moderate over the second half of last year. Core prices had posted a string of very low increases last summer, held down in part by falling motor vehicle prices. In recent months, increases in core prices had rebounded. The overall consumer price index edged down further in December in response to substantial declines in its volatile energy price components. However, survey data pointed to large increases in gasoline prices in January, which were due to the backup in crude oil prices. Preliminary survey measures of near-term inflation expectations for January had nonetheless ticked down, continuing the reversal of a sharp increase after the hurricanes last fall, and longer-term inflation expectations had moved lower as well. Input prices increased somewhat less in December, as upward pressure from previous energy price increases receded somewhat. Indeed, the increase in core intermediate producer prices over the year was estimated to be considerably lower than over the previous year. At its December meeting, the Federal Open Market Committee decided to increase the target level of the federal funds rate 25 basis points, to 4? percent. In its accompanying statement, the Committee indicated that, despite elevated energy prices and hurricane-related disruptions, the expansion in economic activity appeared solid. Core inflation had stayed relatively low in recent months, and longer-term inflation expectations had remained contained. Nevertheless, the Committee noted that possible increases in resource utilization as well as elevated energy prices had the potential to add to inflationary pressures. In these circumstances, the Committee believed that some further measured policy firming was likely to be needed to keep the risks to the attainment of both sustainable economic growth and price stability roughly in balance.Investors had largely anticipated the Committee\\'s interest rate decision at the December meeting and a change in the portions of the statement characterizing policy as accommodative. Accordingly, the policy announcement elicited only modest reactions in financial markets. With mixed readings on economic activity and inflation over the intermeeting period, the market\\'s expectations for the path of monetary policy and yields on Treasury coupon securities ended the period little changed, on balance. Yields on investment- and speculative-grade corporate debt moved largely in line with Treasury yields. Major stock price indexes rose modestly, and the trade-weighted foreign exchange value of the dollar depreciated slightly over the period.Domestic nonfinancial sector debt appeared to have expanded at a somewhat slower pace in the fourth quarter, down from the rapid increase in the third quarter. Household debt growth likely moderated amid hints of a downshift in mortgage borrowing from its robust third-quarter pace and an outright decline in consumer credit, which owed in part to increased charge-offs from October\\'s spike in bankruptcy filings. Business sector debt slowed somewhat in the fourth quarter, mainly reflecting a runoff of commercial paper by multinational firms that were reported to have repatriated foreign earnings to take advantage of a recently enacted tax provision. M2 expanded at a somewhat faster pace in the fourth quarter than had been predicted from historical relationships with income and opportunity costs. In part, the monetary aggregate was likely boosted by payments to hurricane victims by the federal government and insurance companies.The staff forecast prepared for this meeting suggested that, after slow growth in the fourth quarter of 2005, real GDP would expand at a fairly robust pace over the first half of this year, boosted in part by spending on recovery activities associated with the hurricanes. Thereafter, real GDP growth was expected to moderate, importantly reflecting a reduced impetus to consumption from house price appreciation and some slowing in residential housing expenditures. Core PCE inflation was expected to be a touch higher this year than in 2005, largely because of the pass-through of higher energy and nonfuel import prices, but, with energy prices leveling out, core inflation was projected to drop back modestly in 2007.In their discussion of the economic situation and outlook, meeting participants noted the slowing in GDP growth in the fourth quarter of 2005, but believed that it probably owed in large part to transitory factors and that economic growth would bounce back in the current quarter. In that regard, several high frequency indicators of production, labor markets, and private demand suggested greater underlying strength of late than had been reflected in the most recent GDP data. Over the next couple of years, the economy seemed poised to expand at a moderate rate in the neighborhood of its sustainable pace. Most participants expected core inflation to move up slightly in the near term, reflecting some pass-through of increased energy and other commodity prices. Although heightened inflation pressures could also arise from possible increases in resource utilization, the outlook for economic growth and the stability of inflation expectations suggested that core inflation should remain contained over time.In preparation for the Federal Reserve\\'s semiannual report to the Congress on the economy and monetary policy, the members of the Board of Governors and the presidents of the Federal Reserve Banks submitted individual projections of the growth of GDP, the rate of unemployment, and core consumer price inflation for the years 2006 and 2007. The forecasts of the rate of expansion in real GDP for 2006 were in a range of 3-1/4 to 4 percent, centered at 3-1/2 percent, while those for 2007 were in a range of 3 to 4 percent, with a central tendency of 3 to 3-1/2 percent. These rates of growth were associated with projections of the civilian unemployment rate in a range of 4-1/2 to 5 percent, with a central tendency of 4-3/4 to 5 percent, in both the fourth quarter of 2006 and the fourth quarter of 2007. Expectations for the rate of inflation, as measured by the core PCE price index, were in a range of 1-3/4 to 2-1/2 percent this year, centered at about 2 percent, and in a range of 1-3/4 to 2 percent in 2007.In their discussion of major sectors of the economy, meeting participants noted that consumer spending in the latter months of 2005 had been buffeted by the effects of hurricanes, increased energy prices, and reduced auto sales incentives. However, anecdotal reports contributed to a view that consumer spending had been solid over the holiday season and in recent weeks, while measures of consumer confidence remained high. Nevertheless, signs of slowing in the housing sector had become more evident, and the boost to construction from hurricane-related rebuilding now seemed likely to be spread over the next couple of years rather than being more concentrated in the near term. In some areas, home price appreciation reportedly had slowed noticeably, highlighting the risks to aggregate demand of a pullback in the housing sector. For instance, the effects of a leveling out of housing wealth on the saving rate were difficult to predict, but, in the view of some, potentially sizable. Rising debt service costs, owing in part to the repricing of variable-rate mortgages, were also mentioned as possibly restraining the discretionary spending of consumers. The most likely outlook, however, was for a gradual moderation in house price appreciation and in the growth of consumption, which would continue to be supported by increases in jobs and incomes.Participants generally anticipated fairly strong growth of capital expenditures. Though firms had been cautious about expanding their plant and equipment, business confidence was high, capacity utilization was tightening, and companies were continuing to look for investment opportunities that increased productivity. As a result, the outlook was for reasonably robust spending on capital equipment even if economic growth slowed a bit. Anecdotal reports suggested that nonresidential real estate markets were improving in some areas.The slowdown in government spending in the fourth quarter was generally seen as reflecting shifts in the timing of outlays, rather than a change in the underlying trend. However, fiscal stimulus was expected to diminish somewhat by next year. By contrast, global demand had picked up of late and would provide ongoing support for U.S. exports; indeed, the sharp increases in commodity prices and rallies in world equity markets suggested the possibility of an even stronger path for demand abroad.Financial market conditions in the United States, as well as those abroad, suggested that investors were optimistic about the economic outlook. The recent strength in equity markets and the low prevailing term premiums and bond spreads perhaps reflected market assessments that economic risks were lower than usual, as well as strong demands for longer-term assets and an ample supply of liquidity. The possibility that term premiums and credit spreads could return to more typical settings represented a downside risk for interest-sensitive components of aggregate demand.A variety of indicators, along with anecdotal reports, suggested that employment was expanding at a fairly good pace and labor compensation was rising moderately. Some participants remarked on the uncertainties regarding the extent of remaining capacity in labor markets and the outlook for labor costs. In particular, developments affecting the participation rate in the labor force and the pace of growth in productivity would importantly condition prospects for employment and business cost pressures.Participants noted that, while the pass-through of higher energy and other commodity prices to prices of core goods and services had remained subdued, there were continuing upside risks to inflation from these sources. Whatever the size of such pass-through effects, however, it was thought that they would probably be temporary in nature and likely diminish as energy prices flattened out, as long as inflation expectations did not move higher. In that regard, participants were encouraged that, despite recent energy price increases, survey measures of inflation expectations had notched down and longer-term inflation compensation in financial markets was little changed. Although high profit margins could imply some existing pricing power, they might also provide a cushion to absorb some future cost increases. Indeed, anecdotal reports suggested that the ability of firms to pass through higher input costs generally remained limited. Nevertheless, the increased prices of energy and other commodities and the possibility of a further rise in resource utilization, which some members viewed as nearly full at present, represented continuing risks, potentially adding to inflation pressures.In the Committee\\'s discussion of monetary policy for the intermeeting period, all members favored raising the target federal funds rate 25 basis points to 4-1/2 percent at this meeting. Although recent economic data had been uneven, the economy seemed to be expanding at a solid pace. Members were concerned that, even after their action today, possible increases in resource utilization and elevated energy prices had the potential to add to inflation pressures. Although the stance of policy seemed close to where it needed to be given the current outlook, some further policy firming might be needed to keep inflation pressures contained and the risks to price stability and sustainable economic growth roughly in balance. In the view of some members, the possibility of additional policy moves was reinforced by readings on core inflation and inflation expectations that were somewhat higher than was desirable over the long run. However, all members agreed that the future path for the funds rate would depend increasingly on economic developments and could no longer be prejudged with the previous degree of confidence.As this meeting marked Alan Greenspan\\'s last as a member of the Committee, meeting participants took the opportunity individually and collectively to pay tribute to his many years of outstanding service to the Federal Reserve and to the nation. They expressed their appreciation for his collegial and successful leadership of the Committee and of the Federal Reserve System and emphasized the privilege and honor they felt in having served with him.At the conclusion of the discussion, the Committee voted to authorize and direct the Federal Reserve Bank of New York, until it was instructed otherwise, to execute transactions in the System Account in accordance with the following domestic policy directive:\"The Federal Open Market Committee seeks monetary and financial conditions that will foster price stability and promote sustainable growth in output. To further its long-run objectives, the Committee in the immediate future seeks conditions in reserve markets consistent with increasing the federal funds rate to an average of around 4-1/2 percent.\"The vote encompassed approval of the paragraph below for inclusion in the statement to be released shortly after the meeting:\"The Committee judges that some further policy firming may be needed to keep the risks to the attainment of both sustainable economic growth and price stability roughly in balance. In any event, the Committee will respond to changes in economic prospects as needed to foster these objectives.\"'"
            ]
          },
          "execution_count": 5,
          "metadata": {},
          "output_type": "execute_result"
        }
      ],
      "source": [
        "text.sentence[1]"
      ]
    },
    {
      "cell_type": "code",
      "execution_count": null,
      "metadata": {
        "colab": {
          "base_uri": "https://localhost:8080/"
        },
        "id": "_QjDh6IEBxv2",
        "outputId": "6de67582-7e12-42fe-86b0-6d0ad825f5cf"
      },
      "outputs": [
        {
          "data": {
            "text/plain": [
              "26412"
            ]
          },
          "execution_count": 4,
          "metadata": {},
          "output_type": "execute_result"
        }
      ],
      "source": [
        "len(sentences_list)"
      ]
    },
    {
      "cell_type": "markdown",
      "metadata": {
        "id": "kvFM1xaVfZhf"
      },
      "source": [
        "# Processing data"
      ]
    },
    {
      "cell_type": "code",
      "execution_count": null,
      "metadata": {
        "colab": {
          "base_uri": "https://localhost:8080/"
        },
        "id": "bLssnjc2DOol",
        "outputId": "0fd6b470-5b3d-4409-97c9-865baabed7c0"
      },
      "outputs": [
        {
          "data": {
            "text/plain": [
              "[{'label': 'Neutral', 'score': 0.9999871253967285}]"
            ]
          },
          "execution_count": 7,
          "metadata": {},
          "output_type": "execute_result"
        }
      ],
      "source": [
        "nlp(sentences_list[1])"
      ]
    },
    {
      "cell_type": "code",
      "execution_count": null,
      "metadata": {
        "colab": {
          "base_uri": "https://localhost:8080/"
        },
        "id": "gb8aqB43_x2P",
        "outputId": "677e4595-fd1f-470b-acfe-1fbb197e7071"
      },
      "outputs": [
        {
          "name": "stderr",
          "output_type": "stream",
          "text": [
            "100%|██████████| 26412/26412 [1:40:03<00:00,  4.40it/s]\n"
          ]
        }
      ],
      "source": [
        "results = []\n",
        "for sentence in tqdm(sentences_list):\n",
        "    doc = nlp(sentence)\n",
        "    label = doc[0]['label']\n",
        "    score = doc[0]['score']\n",
        "    results.append({'sentence': sentence, 'label': label, 'score': score})\n",
        "\n",
        "df = pd.DataFrame(results)"
      ]
    },
    {
      "cell_type": "code",
      "execution_count": null,
      "metadata": {
        "colab": {
          "base_uri": "https://localhost:8080/",
          "height": 206
        },
        "id": "Hx-ZmSwAEKBu",
        "outputId": "df0fbd22-5e21-43f9-cca9-2fe1432bef7f"
      },
      "outputs": [
        {
          "data": {
            "text/html": [
              "\n",
              "  <div id=\"df-ea6ea13b-2e2a-458f-9a7a-799de4ebf50b\">\n",
              "    <div class=\"colab-df-container\">\n",
              "      <div>\n",
              "<style scoped>\n",
              "    .dataframe tbody tr th:only-of-type {\n",
              "        vertical-align: middle;\n",
              "    }\n",
              "\n",
              "    .dataframe tbody tr th {\n",
              "        vertical-align: top;\n",
              "    }\n",
              "\n",
              "    .dataframe thead th {\n",
              "        text-align: right;\n",
              "    }\n",
              "</style>\n",
              "<table border=\"1\" class=\"dataframe\">\n",
              "  <thead>\n",
              "    <tr style=\"text-align: right;\">\n",
              "      <th></th>\n",
              "      <th>sentence</th>\n",
              "      <th>label</th>\n",
              "      <th>score</th>\n",
              "    </tr>\n",
              "  </thead>\n",
              "  <tbody>\n",
              "    <tr>\n",
              "      <th>0</th>\n",
              "      <td>The Manager of the System Open Market Account ...</td>\n",
              "      <td>Neutral</td>\n",
              "      <td>0.999998</td>\n",
              "    </tr>\n",
              "    <tr>\n",
              "      <th>1</th>\n",
              "      <td>There were no open market operations in foreig...</td>\n",
              "      <td>Neutral</td>\n",
              "      <td>0.999987</td>\n",
              "    </tr>\n",
              "    <tr>\n",
              "      <th>2</th>\n",
              "      <td>The Manager also reported on developments in d...</td>\n",
              "      <td>Neutral</td>\n",
              "      <td>0.999989</td>\n",
              "    </tr>\n",
              "    <tr>\n",
              "      <th>3</th>\n",
              "      <td>By unanimous vote, the Committee ratified thes...</td>\n",
              "      <td>Positive</td>\n",
              "      <td>1.000000</td>\n",
              "    </tr>\n",
              "    <tr>\n",
              "      <th>4</th>\n",
              "      <td>Industrial production rebounded, and employmen...</td>\n",
              "      <td>Positive</td>\n",
              "      <td>0.999996</td>\n",
              "    </tr>\n",
              "  </tbody>\n",
              "</table>\n",
              "</div>\n",
              "      <button class=\"colab-df-convert\" onclick=\"convertToInteractive('df-ea6ea13b-2e2a-458f-9a7a-799de4ebf50b')\"\n",
              "              title=\"Convert this dataframe to an interactive table.\"\n",
              "              style=\"display:none;\">\n",
              "        \n",
              "  <svg xmlns=\"http://www.w3.org/2000/svg\" height=\"24px\"viewBox=\"0 0 24 24\"\n",
              "       width=\"24px\">\n",
              "    <path d=\"M0 0h24v24H0V0z\" fill=\"none\"/>\n",
              "    <path d=\"M18.56 5.44l.94 2.06.94-2.06 2.06-.94-2.06-.94-.94-2.06-.94 2.06-2.06.94zm-11 1L8.5 8.5l.94-2.06 2.06-.94-2.06-.94L8.5 2.5l-.94 2.06-2.06.94zm10 10l.94 2.06.94-2.06 2.06-.94-2.06-.94-.94-2.06-.94 2.06-2.06.94z\"/><path d=\"M17.41 7.96l-1.37-1.37c-.4-.4-.92-.59-1.43-.59-.52 0-1.04.2-1.43.59L10.3 9.45l-7.72 7.72c-.78.78-.78 2.05 0 2.83L4 21.41c.39.39.9.59 1.41.59.51 0 1.02-.2 1.41-.59l7.78-7.78 2.81-2.81c.8-.78.8-2.07 0-2.86zM5.41 20L4 18.59l7.72-7.72 1.47 1.35L5.41 20z\"/>\n",
              "  </svg>\n",
              "      </button>\n",
              "      \n",
              "  <style>\n",
              "    .colab-df-container {\n",
              "      display:flex;\n",
              "      flex-wrap:wrap;\n",
              "      gap: 12px;\n",
              "    }\n",
              "\n",
              "    .colab-df-convert {\n",
              "      background-color: #E8F0FE;\n",
              "      border: none;\n",
              "      border-radius: 50%;\n",
              "      cursor: pointer;\n",
              "      display: none;\n",
              "      fill: #1967D2;\n",
              "      height: 32px;\n",
              "      padding: 0 0 0 0;\n",
              "      width: 32px;\n",
              "    }\n",
              "\n",
              "    .colab-df-convert:hover {\n",
              "      background-color: #E2EBFA;\n",
              "      box-shadow: 0px 1px 2px rgba(60, 64, 67, 0.3), 0px 1px 3px 1px rgba(60, 64, 67, 0.15);\n",
              "      fill: #174EA6;\n",
              "    }\n",
              "\n",
              "    [theme=dark] .colab-df-convert {\n",
              "      background-color: #3B4455;\n",
              "      fill: #D2E3FC;\n",
              "    }\n",
              "\n",
              "    [theme=dark] .colab-df-convert:hover {\n",
              "      background-color: #434B5C;\n",
              "      box-shadow: 0px 1px 3px 1px rgba(0, 0, 0, 0.15);\n",
              "      filter: drop-shadow(0px 1px 2px rgba(0, 0, 0, 0.3));\n",
              "      fill: #FFFFFF;\n",
              "    }\n",
              "  </style>\n",
              "\n",
              "      <script>\n",
              "        const buttonEl =\n",
              "          document.querySelector('#df-ea6ea13b-2e2a-458f-9a7a-799de4ebf50b button.colab-df-convert');\n",
              "        buttonEl.style.display =\n",
              "          google.colab.kernel.accessAllowed ? 'block' : 'none';\n",
              "\n",
              "        async function convertToInteractive(key) {\n",
              "          const element = document.querySelector('#df-ea6ea13b-2e2a-458f-9a7a-799de4ebf50b');\n",
              "          const dataTable =\n",
              "            await google.colab.kernel.invokeFunction('convertToInteractive',\n",
              "                                                     [key], {});\n",
              "          if (!dataTable) return;\n",
              "\n",
              "          const docLinkHtml = 'Like what you see? Visit the ' +\n",
              "            '<a target=\"_blank\" href=https://colab.research.google.com/notebooks/data_table.ipynb>data table notebook</a>'\n",
              "            + ' to learn more about interactive tables.';\n",
              "          element.innerHTML = '';\n",
              "          dataTable['output_type'] = 'display_data';\n",
              "          await google.colab.output.renderOutput(dataTable, element);\n",
              "          const docLink = document.createElement('div');\n",
              "          docLink.innerHTML = docLinkHtml;\n",
              "          element.appendChild(docLink);\n",
              "        }\n",
              "      </script>\n",
              "    </div>\n",
              "  </div>\n",
              "  "
            ],
            "text/plain": [
              "                                            sentence     label     score\n",
              "0  The Manager of the System Open Market Account ...   Neutral  0.999998\n",
              "1  There were no open market operations in foreig...   Neutral  0.999987\n",
              "2  The Manager also reported on developments in d...   Neutral  0.999989\n",
              "3  By unanimous vote, the Committee ratified thes...  Positive  1.000000\n",
              "4  Industrial production rebounded, and employmen...  Positive  0.999996"
            ]
          },
          "execution_count": 13,
          "metadata": {},
          "output_type": "execute_result"
        }
      ],
      "source": [
        "df.head()"
      ]
    },
    {
      "cell_type": "code",
      "execution_count": 9,
      "metadata": {
        "id": "II75DqQOd3HR"
      },
      "outputs": [],
      "source": [
        "df.to_csv('FOMC_results_3.csv', index=False)"
      ]
    },
    {
      "cell_type": "markdown",
      "metadata": {
        "id": "skxuKkkOAFYk"
      },
      "source": [
        "# Text Simplification (sentiment focus)"
      ]
    },
    {
      "cell_type": "markdown",
      "source": [
        "If there is a transition such as though and while, the focus will be on another paragraph, and if there is a but, the focus will be on the paragraph containing the but. For example:\n",
        "\n",
        "# **---**\n",
        "**Although** some scattered signs of cooling of the housing sector had emerged, the pace of construction activity and sales remained brisk.  \n",
        "⇓  \n",
        "the pace of construction activity and sales remained brisk.\n",
        "\n",
        "\n",
        "---\n",
        "\n",
        "\n",
        "Starts of new single-family homes dropped back somewhat in October from September's very strong pace, **but** permit issuance remained elevated.   \n",
        "⇓  \n",
        "permit issuance remained elevated.\n",
        "\n",
        "\n"
      ],
      "metadata": {
        "id": "RKLbZe0KTWbV"
      }
    },
    {
      "cell_type": "code",
      "source": [
        "import spacy\n",
        "nlp = spacy.load(\"en_core_web_sm\")\n",
        "\n",
        "def sentiment_focus(sentence):\n",
        "    doc = nlp(sentence)\n",
        "    focus = \"\"\n",
        "    focus_changed = 1\n",
        "    for sent in doc.sents:\n",
        "        sent_tokens = [token for token in sent]\n",
        "        for token in sent_tokens:\n",
        "            if token.lower_ == \"although\" or token.lower_ == \"while\":\n",
        "                try:\n",
        "                    comma_index = [token1.i for token1 in doc[token.i:] if token1.text == ','][0]\n",
        "                except IndexError:\n",
        "                    try:\n",
        "                      comma_index = [token1.i for token1 in doc[:token.i] if token1.text == ','][-1]\n",
        "                    except IndexError:\n",
        "                      return str(doc).strip(),focus_changed\n",
        "                    focus = doc[:comma_index].text\n",
        "                    return str(focus).strip(),focus_changed\n",
        "                focus = doc[comma_index+1:].text\n",
        "                return str(focus).strip(),focus_changed\n",
        "\n",
        "    for index, token in enumerate(doc[:-1]):\n",
        "        if token.lower_ == \"but\":\n",
        "            focus = doc[index + 1:]\n",
        "            return str(focus).strip(),focus_changed\n",
        "    focus_changed = 0 \n",
        "    return str(doc).strip(),focus_changed"
      ],
      "metadata": {
        "id": "DR75o9Iyjts1"
      },
      "execution_count": 153,
      "outputs": []
    },
    {
      "cell_type": "code",
      "source": [
        "sentiment_focus(\" Starts of new single-family homes dropped back somewhat in October from September's very strong pace, but permit issuance remained elevated\")"
      ],
      "metadata": {
        "colab": {
          "base_uri": "https://localhost:8080/"
        },
        "id": "IbXwYKqCibVX",
        "outputId": "23a40402-703c-40cb-c6f2-720dfc3b5181"
      },
      "execution_count": 154,
      "outputs": [
        {
          "output_type": "execute_result",
          "data": {
            "text/plain": [
              "('permit issuance remained elevated', 1)"
            ]
          },
          "metadata": {},
          "execution_count": 154
        }
      ]
    },
    {
      "cell_type": "code",
      "source": [
        "sentiment_focus(\"In their discussion of major sectors of the economy, meeting participants noted that, while light vehicle sales had slowed in the fall, consumer spending outside the auto sector appeared to have remained vigorous\")"
      ],
      "metadata": {
        "colab": {
          "base_uri": "https://localhost:8080/",
          "height": 35
        },
        "id": "UB0y9PJd1IWn",
        "outputId": "cb2aa232-4273-44b1-fdec-0ce9218d569a"
      },
      "execution_count": 148,
      "outputs": [
        {
          "output_type": "execute_result",
          "data": {
            "text/plain": [
              "'consumer spending outside the auto sector appeared to have remained vigorous'"
            ],
            "application/vnd.google.colaboratory.intrinsic+json": {
              "type": "string"
            }
          },
          "metadata": {},
          "execution_count": 148
        }
      ]
    },
    {
      "cell_type": "code",
      "source": [
        "sentiment_focus('Although some scattered signs of cooling of the housing sector had emerged, the pace of construction activity and sales remained brisk.')"
      ],
      "metadata": {
        "colab": {
          "base_uri": "https://localhost:8080/",
          "height": 35
        },
        "id": "8PZjxlE1pTXz",
        "outputId": "c004a6f4-51f7-4c0f-90a6-b6a87b1b5745"
      },
      "execution_count": 141,
      "outputs": [
        {
          "output_type": "execute_result",
          "data": {
            "text/plain": [
              "'the pace of construction activity and sales remained brisk.'"
            ],
            "application/vnd.google.colaboratory.intrinsic+json": {
              "type": "string"
            }
          },
          "metadata": {},
          "execution_count": 141
        }
      ]
    },
    {
      "cell_type": "code",
      "source": [
        "sentiment_focus(\"Growth of liquid deposits remained robust, but small time deposits and retail money market mutual funds again contracted at a rapid pace in response to the low yields on those assets\")"
      ],
      "metadata": {
        "colab": {
          "base_uri": "https://localhost:8080/",
          "height": 53
        },
        "id": "NSmh8QIL4Dg3",
        "outputId": "d87b9d30-7deb-4d47-e40a-a50c6777e848"
      },
      "execution_count": 120,
      "outputs": [
        {
          "output_type": "execute_result",
          "data": {
            "text/plain": [
              "'small time deposits and retail money market mutual funds again contracted at a rapid pace in response to the low yields on those assets'"
            ],
            "application/vnd.google.colaboratory.intrinsic+json": {
              "type": "string"
            }
          },
          "metadata": {},
          "execution_count": 120
        }
      ]
    },
    {
      "cell_type": "code",
      "source": [
        "finbert(\"Growth of liquid deposits remained robust, but small time deposits and retail money market mutual funds again contracted at a rapid pace in response to the low yields on those assets\")"
      ],
      "metadata": {
        "colab": {
          "base_uri": "https://localhost:8080/"
        },
        "id": "No1-HPS54Q_A",
        "outputId": "4aef02e2-b387-4fef-8442-2ef0e1ca114e"
      },
      "execution_count": 122,
      "outputs": [
        {
          "output_type": "execute_result",
          "data": {
            "text/plain": [
              "[{'label': 'Positive', 'score': 0.9998164772987366}]"
            ]
          },
          "metadata": {},
          "execution_count": 122
        }
      ]
    },
    {
      "cell_type": "code",
      "source": [
        "finbert(\"small time deposits and retail money market mutual funds again contracted at a rapid pace in response to the low yields on those assets\")"
      ],
      "metadata": {
        "colab": {
          "base_uri": "https://localhost:8080/"
        },
        "id": "N7jyVk764HFQ",
        "outputId": "5cfc01ac-0a6c-4db1-a718-fd122ab1afbd"
      },
      "execution_count": 121,
      "outputs": [
        {
          "output_type": "execute_result",
          "data": {
            "text/plain": [
              "[{'label': 'Negative', 'score': 0.7514410614967346}]"
            ]
          },
          "metadata": {},
          "execution_count": 121
        }
      ]
    },
    {
      "cell_type": "code",
      "source": [
        "finbert('permit issuance remained elevated')"
      ],
      "metadata": {
        "colab": {
          "base_uri": "https://localhost:8080/"
        },
        "id": "nFxNkpD4odfH",
        "outputId": "4473cd73-29fe-409b-9e77-cb5babd97370"
      },
      "execution_count": 118,
      "outputs": [
        {
          "output_type": "execute_result",
          "data": {
            "text/plain": [
              "[{'label': 'Negative', 'score': 0.8672457337379456}]"
            ]
          },
          "metadata": {},
          "execution_count": 118
        }
      ]
    },
    {
      "cell_type": "code",
      "source": [
        "finbert('the pace of construction activity and sales remained brisk.')"
      ],
      "metadata": {
        "colab": {
          "base_uri": "https://localhost:8080/"
        },
        "id": "nAr888g0pSU-",
        "outputId": "0c7b88dc-0b21-4bee-9c3f-56111828ac99"
      },
      "execution_count": 119,
      "outputs": [
        {
          "output_type": "execute_result",
          "data": {
            "text/plain": [
              "[{'label': 'Positive', 'score': 0.3631136417388916}]"
            ]
          },
          "metadata": {},
          "execution_count": 119
        }
      ]
    },
    {
      "cell_type": "markdown",
      "source": [
        "## The same sentence after focus processing"
      ],
      "metadata": {
        "id": "lBmSb5WB2vgi"
      }
    },
    {
      "cell_type": "markdown",
      "source": [
        "Actually works well"
      ],
      "metadata": {
        "id": "q26a2Y9IWT-Y"
      }
    },
    {
      "cell_type": "code",
      "source": [
        "finbert(\"In their discussion of major sectors of the economy, meeting participants noted that, while light vehicle sales had slowed in the fall, consumer spending outside the auto sector appeared to have remained vigorous\")"
      ],
      "metadata": {
        "colab": {
          "base_uri": "https://localhost:8080/"
        },
        "id": "dd6odikY0iDp",
        "outputId": "a9e0e60a-fd22-472b-8193-8c86f74f9a48"
      },
      "execution_count": 105,
      "outputs": [
        {
          "output_type": "execute_result",
          "data": {
            "text/plain": [
              "[{'label': 'Negative', 'score': 0.9846646189689636}]"
            ]
          },
          "metadata": {},
          "execution_count": 105
        }
      ]
    },
    {
      "cell_type": "code",
      "source": [
        "finbert(\"consumer spending outside the auto sector appeared to have remained vigorous\")"
      ],
      "metadata": {
        "colab": {
          "base_uri": "https://localhost:8080/"
        },
        "id": "NBbjcLVm0oqs",
        "outputId": "bcb73e6d-4410-42ea-de00-f3fde3b43abd"
      },
      "execution_count": 117,
      "outputs": [
        {
          "output_type": "execute_result",
          "data": {
            "text/plain": [
              "[{'label': 'Positive', 'score': 0.8260715007781982}]"
            ]
          },
          "metadata": {},
          "execution_count": 117
        }
      ]
    },
    {
      "cell_type": "markdown",
      "source": [
        "# Processing focus sentiment sentences"
      ],
      "metadata": {
        "id": "KwtY7Xy_wYsi"
      }
    },
    {
      "cell_type": "code",
      "execution_count": 127,
      "metadata": {
        "id": "kP7LTRXBfvMh",
        "colab": {
          "base_uri": "https://localhost:8080/",
          "height": 206
        },
        "outputId": "8fb9534b-21c5-4d9a-ac7a-71be680bf4c4"
      },
      "outputs": [
        {
          "output_type": "execute_result",
          "data": {
            "text/plain": [
              "                                            sentence     label     score\n",
              "0  The Manager of the System Open Market Account ...   Neutral  0.999998\n",
              "1  There were no open market operations in foreig...   Neutral  0.999987\n",
              "2  The Manager also reported on developments in d...   Neutral  0.999989\n",
              "3  By unanimous vote, the Committee ratified thes...  Positive  1.000000\n",
              "4  Industrial production rebounded, and employmen...  Positive  0.999996"
            ],
            "text/html": [
              "\n",
              "  <div id=\"df-e5dff2fd-26ce-49a3-a071-ee1022fa59d9\">\n",
              "    <div class=\"colab-df-container\">\n",
              "      <div>\n",
              "<style scoped>\n",
              "    .dataframe tbody tr th:only-of-type {\n",
              "        vertical-align: middle;\n",
              "    }\n",
              "\n",
              "    .dataframe tbody tr th {\n",
              "        vertical-align: top;\n",
              "    }\n",
              "\n",
              "    .dataframe thead th {\n",
              "        text-align: right;\n",
              "    }\n",
              "</style>\n",
              "<table border=\"1\" class=\"dataframe\">\n",
              "  <thead>\n",
              "    <tr style=\"text-align: right;\">\n",
              "      <th></th>\n",
              "      <th>sentence</th>\n",
              "      <th>label</th>\n",
              "      <th>score</th>\n",
              "    </tr>\n",
              "  </thead>\n",
              "  <tbody>\n",
              "    <tr>\n",
              "      <th>0</th>\n",
              "      <td>The Manager of the System Open Market Account ...</td>\n",
              "      <td>Neutral</td>\n",
              "      <td>0.999998</td>\n",
              "    </tr>\n",
              "    <tr>\n",
              "      <th>1</th>\n",
              "      <td>There were no open market operations in foreig...</td>\n",
              "      <td>Neutral</td>\n",
              "      <td>0.999987</td>\n",
              "    </tr>\n",
              "    <tr>\n",
              "      <th>2</th>\n",
              "      <td>The Manager also reported on developments in d...</td>\n",
              "      <td>Neutral</td>\n",
              "      <td>0.999989</td>\n",
              "    </tr>\n",
              "    <tr>\n",
              "      <th>3</th>\n",
              "      <td>By unanimous vote, the Committee ratified thes...</td>\n",
              "      <td>Positive</td>\n",
              "      <td>1.000000</td>\n",
              "    </tr>\n",
              "    <tr>\n",
              "      <th>4</th>\n",
              "      <td>Industrial production rebounded, and employmen...</td>\n",
              "      <td>Positive</td>\n",
              "      <td>0.999996</td>\n",
              "    </tr>\n",
              "  </tbody>\n",
              "</table>\n",
              "</div>\n",
              "      <button class=\"colab-df-convert\" onclick=\"convertToInteractive('df-e5dff2fd-26ce-49a3-a071-ee1022fa59d9')\"\n",
              "              title=\"Convert this dataframe to an interactive table.\"\n",
              "              style=\"display:none;\">\n",
              "        \n",
              "  <svg xmlns=\"http://www.w3.org/2000/svg\" height=\"24px\"viewBox=\"0 0 24 24\"\n",
              "       width=\"24px\">\n",
              "    <path d=\"M0 0h24v24H0V0z\" fill=\"none\"/>\n",
              "    <path d=\"M18.56 5.44l.94 2.06.94-2.06 2.06-.94-2.06-.94-.94-2.06-.94 2.06-2.06.94zm-11 1L8.5 8.5l.94-2.06 2.06-.94-2.06-.94L8.5 2.5l-.94 2.06-2.06.94zm10 10l.94 2.06.94-2.06 2.06-.94-2.06-.94-.94-2.06-.94 2.06-2.06.94z\"/><path d=\"M17.41 7.96l-1.37-1.37c-.4-.4-.92-.59-1.43-.59-.52 0-1.04.2-1.43.59L10.3 9.45l-7.72 7.72c-.78.78-.78 2.05 0 2.83L4 21.41c.39.39.9.59 1.41.59.51 0 1.02-.2 1.41-.59l7.78-7.78 2.81-2.81c.8-.78.8-2.07 0-2.86zM5.41 20L4 18.59l7.72-7.72 1.47 1.35L5.41 20z\"/>\n",
              "  </svg>\n",
              "      </button>\n",
              "      \n",
              "  <style>\n",
              "    .colab-df-container {\n",
              "      display:flex;\n",
              "      flex-wrap:wrap;\n",
              "      gap: 12px;\n",
              "    }\n",
              "\n",
              "    .colab-df-convert {\n",
              "      background-color: #E8F0FE;\n",
              "      border: none;\n",
              "      border-radius: 50%;\n",
              "      cursor: pointer;\n",
              "      display: none;\n",
              "      fill: #1967D2;\n",
              "      height: 32px;\n",
              "      padding: 0 0 0 0;\n",
              "      width: 32px;\n",
              "    }\n",
              "\n",
              "    .colab-df-convert:hover {\n",
              "      background-color: #E2EBFA;\n",
              "      box-shadow: 0px 1px 2px rgba(60, 64, 67, 0.3), 0px 1px 3px 1px rgba(60, 64, 67, 0.15);\n",
              "      fill: #174EA6;\n",
              "    }\n",
              "\n",
              "    [theme=dark] .colab-df-convert {\n",
              "      background-color: #3B4455;\n",
              "      fill: #D2E3FC;\n",
              "    }\n",
              "\n",
              "    [theme=dark] .colab-df-convert:hover {\n",
              "      background-color: #434B5C;\n",
              "      box-shadow: 0px 1px 3px 1px rgba(0, 0, 0, 0.15);\n",
              "      filter: drop-shadow(0px 1px 2px rgba(0, 0, 0, 0.3));\n",
              "      fill: #FFFFFF;\n",
              "    }\n",
              "  </style>\n",
              "\n",
              "      <script>\n",
              "        const buttonEl =\n",
              "          document.querySelector('#df-e5dff2fd-26ce-49a3-a071-ee1022fa59d9 button.colab-df-convert');\n",
              "        buttonEl.style.display =\n",
              "          google.colab.kernel.accessAllowed ? 'block' : 'none';\n",
              "\n",
              "        async function convertToInteractive(key) {\n",
              "          const element = document.querySelector('#df-e5dff2fd-26ce-49a3-a071-ee1022fa59d9');\n",
              "          const dataTable =\n",
              "            await google.colab.kernel.invokeFunction('convertToInteractive',\n",
              "                                                     [key], {});\n",
              "          if (!dataTable) return;\n",
              "\n",
              "          const docLinkHtml = 'Like what you see? Visit the ' +\n",
              "            '<a target=\"_blank\" href=https://colab.research.google.com/notebooks/data_table.ipynb>data table notebook</a>'\n",
              "            + ' to learn more about interactive tables.';\n",
              "          element.innerHTML = '';\n",
              "          dataTable['output_type'] = 'display_data';\n",
              "          await google.colab.output.renderOutput(dataTable, element);\n",
              "          const docLink = document.createElement('div');\n",
              "          docLink.innerHTML = docLinkHtml;\n",
              "          element.appendChild(docLink);\n",
              "        }\n",
              "      </script>\n",
              "    </div>\n",
              "  </div>\n",
              "  "
            ]
          },
          "metadata": {},
          "execution_count": 127
        }
      ],
      "source": [
        "df.head()"
      ]
    },
    {
      "cell_type": "code",
      "source": [
        "df = pd.read_csv('/content/FOMC_results_2.csv')"
      ],
      "metadata": {
        "id": "TuwVK-ygIYnW"
      },
      "execution_count": 3,
      "outputs": []
    },
    {
      "cell_type": "code",
      "source": [
        "import spacy\n",
        "from tqdm.auto import tqdm\n",
        "tqdm.pandas()\n",
        "df[['sentence_simple', 'focus_changed']] = df['sentence'].progress_apply(sentiment_focus).apply(pd.Series)\n",
        "\n",
        "df['focus_ornot'] = df['focus_changed'].apply(lambda x: 1 if x else 0)\n",
        "\n",
        "df.drop('focus_changed', axis=1, inplace=True)"
      ],
      "metadata": {
        "colab": {
          "base_uri": "https://localhost:8080/",
          "height": 49,
          "referenced_widgets": [
            "3c951a452ef24eb99336035bb4bfa825",
            "be2a2926d6304ea4ba8bd0f7d523e6f4",
            "d167478fe6484c198d24cb8093e2c0b6",
            "851b26ea678c4c069c9b5cb9a4af1054",
            "87b5605e82424c01a3ed31ec641bd416",
            "41e2d9320b7d4f05b186a2a298e61a03",
            "75e635979cbb4718b8869b9a11367474",
            "73276838e60142e0bfdc8f67d8da2957",
            "4e4fecbfc08a403e8d4fd8ff3eaeca54",
            "2ddc12d2f4264924b991a3ee2b2788fe",
            "9c08679b3f294a04a8d647916bbf2571"
          ]
        },
        "id": "l7DO4aA947gq",
        "outputId": "9e534152-81f0-49d3-d629-4f9a2b5bd83c"
      },
      "execution_count": 156,
      "outputs": [
        {
          "data": {
            "application/vnd.jupyter.widget-view+json": {
              "model_id": "3c951a452ef24eb99336035bb4bfa825",
              "version_major": 2,
              "version_minor": 0
            },
            "text/plain": [
              "  0%|          | 0/26412 [00:00<?, ?it/s]"
            ]
          },
          "metadata": {},
          "output_type": "display_data"
        }
      ]
    },
    {
      "cell_type": "code",
      "source": [
        "df.head()"
      ],
      "metadata": {
        "colab": {
          "base_uri": "https://localhost:8080/",
          "height": 206
        },
        "id": "rFAzLR9R9uZw",
        "outputId": "9f68fecb-0773-4ccd-91fc-401709711aeb"
      },
      "execution_count": 4,
      "outputs": [
        {
          "output_type": "execute_result",
          "data": {
            "text/plain": [
              "                                            sentence     label     score  \\\n",
              "0  The Manager of the System Open Market Account ...   Neutral  0.999998   \n",
              "1  There were no open market operations in foreig...   Neutral  0.999987   \n",
              "2  The Manager also reported on developments in d...   Neutral  0.999989   \n",
              "3  By unanimous vote, the Committee ratified thes...  Positive  1.000000   \n",
              "4  Industrial production rebounded, and employmen...  Positive  0.999996   \n",
              "\n",
              "                                     sentence_simple  focus_ornot  \n",
              "0  The Manager of the System Open Market Account ...            0  \n",
              "1  There were no open market operations in foreig...            0  \n",
              "2  The Manager also reported on developments in d...            0  \n",
              "3  By unanimous vote, the Committee ratified thes...            0  \n",
              "4  Industrial production rebounded, and employmen...            0  "
            ],
            "text/html": [
              "\n",
              "  <div id=\"df-8a224708-9593-4b54-8242-f950bd7d8a5c\">\n",
              "    <div class=\"colab-df-container\">\n",
              "      <div>\n",
              "<style scoped>\n",
              "    .dataframe tbody tr th:only-of-type {\n",
              "        vertical-align: middle;\n",
              "    }\n",
              "\n",
              "    .dataframe tbody tr th {\n",
              "        vertical-align: top;\n",
              "    }\n",
              "\n",
              "    .dataframe thead th {\n",
              "        text-align: right;\n",
              "    }\n",
              "</style>\n",
              "<table border=\"1\" class=\"dataframe\">\n",
              "  <thead>\n",
              "    <tr style=\"text-align: right;\">\n",
              "      <th></th>\n",
              "      <th>sentence</th>\n",
              "      <th>label</th>\n",
              "      <th>score</th>\n",
              "      <th>sentence_simple</th>\n",
              "      <th>focus_ornot</th>\n",
              "    </tr>\n",
              "  </thead>\n",
              "  <tbody>\n",
              "    <tr>\n",
              "      <th>0</th>\n",
              "      <td>The Manager of the System Open Market Account ...</td>\n",
              "      <td>Neutral</td>\n",
              "      <td>0.999998</td>\n",
              "      <td>The Manager of the System Open Market Account ...</td>\n",
              "      <td>0</td>\n",
              "    </tr>\n",
              "    <tr>\n",
              "      <th>1</th>\n",
              "      <td>There were no open market operations in foreig...</td>\n",
              "      <td>Neutral</td>\n",
              "      <td>0.999987</td>\n",
              "      <td>There were no open market operations in foreig...</td>\n",
              "      <td>0</td>\n",
              "    </tr>\n",
              "    <tr>\n",
              "      <th>2</th>\n",
              "      <td>The Manager also reported on developments in d...</td>\n",
              "      <td>Neutral</td>\n",
              "      <td>0.999989</td>\n",
              "      <td>The Manager also reported on developments in d...</td>\n",
              "      <td>0</td>\n",
              "    </tr>\n",
              "    <tr>\n",
              "      <th>3</th>\n",
              "      <td>By unanimous vote, the Committee ratified thes...</td>\n",
              "      <td>Positive</td>\n",
              "      <td>1.000000</td>\n",
              "      <td>By unanimous vote, the Committee ratified thes...</td>\n",
              "      <td>0</td>\n",
              "    </tr>\n",
              "    <tr>\n",
              "      <th>4</th>\n",
              "      <td>Industrial production rebounded, and employmen...</td>\n",
              "      <td>Positive</td>\n",
              "      <td>0.999996</td>\n",
              "      <td>Industrial production rebounded, and employmen...</td>\n",
              "      <td>0</td>\n",
              "    </tr>\n",
              "  </tbody>\n",
              "</table>\n",
              "</div>\n",
              "      <button class=\"colab-df-convert\" onclick=\"convertToInteractive('df-8a224708-9593-4b54-8242-f950bd7d8a5c')\"\n",
              "              title=\"Convert this dataframe to an interactive table.\"\n",
              "              style=\"display:none;\">\n",
              "        \n",
              "  <svg xmlns=\"http://www.w3.org/2000/svg\" height=\"24px\"viewBox=\"0 0 24 24\"\n",
              "       width=\"24px\">\n",
              "    <path d=\"M0 0h24v24H0V0z\" fill=\"none\"/>\n",
              "    <path d=\"M18.56 5.44l.94 2.06.94-2.06 2.06-.94-2.06-.94-.94-2.06-.94 2.06-2.06.94zm-11 1L8.5 8.5l.94-2.06 2.06-.94-2.06-.94L8.5 2.5l-.94 2.06-2.06.94zm10 10l.94 2.06.94-2.06 2.06-.94-2.06-.94-.94-2.06-.94 2.06-2.06.94z\"/><path d=\"M17.41 7.96l-1.37-1.37c-.4-.4-.92-.59-1.43-.59-.52 0-1.04.2-1.43.59L10.3 9.45l-7.72 7.72c-.78.78-.78 2.05 0 2.83L4 21.41c.39.39.9.59 1.41.59.51 0 1.02-.2 1.41-.59l7.78-7.78 2.81-2.81c.8-.78.8-2.07 0-2.86zM5.41 20L4 18.59l7.72-7.72 1.47 1.35L5.41 20z\"/>\n",
              "  </svg>\n",
              "      </button>\n",
              "      \n",
              "  <style>\n",
              "    .colab-df-container {\n",
              "      display:flex;\n",
              "      flex-wrap:wrap;\n",
              "      gap: 12px;\n",
              "    }\n",
              "\n",
              "    .colab-df-convert {\n",
              "      background-color: #E8F0FE;\n",
              "      border: none;\n",
              "      border-radius: 50%;\n",
              "      cursor: pointer;\n",
              "      display: none;\n",
              "      fill: #1967D2;\n",
              "      height: 32px;\n",
              "      padding: 0 0 0 0;\n",
              "      width: 32px;\n",
              "    }\n",
              "\n",
              "    .colab-df-convert:hover {\n",
              "      background-color: #E2EBFA;\n",
              "      box-shadow: 0px 1px 2px rgba(60, 64, 67, 0.3), 0px 1px 3px 1px rgba(60, 64, 67, 0.15);\n",
              "      fill: #174EA6;\n",
              "    }\n",
              "\n",
              "    [theme=dark] .colab-df-convert {\n",
              "      background-color: #3B4455;\n",
              "      fill: #D2E3FC;\n",
              "    }\n",
              "\n",
              "    [theme=dark] .colab-df-convert:hover {\n",
              "      background-color: #434B5C;\n",
              "      box-shadow: 0px 1px 3px 1px rgba(0, 0, 0, 0.15);\n",
              "      filter: drop-shadow(0px 1px 2px rgba(0, 0, 0, 0.3));\n",
              "      fill: #FFFFFF;\n",
              "    }\n",
              "  </style>\n",
              "\n",
              "      <script>\n",
              "        const buttonEl =\n",
              "          document.querySelector('#df-8a224708-9593-4b54-8242-f950bd7d8a5c button.colab-df-convert');\n",
              "        buttonEl.style.display =\n",
              "          google.colab.kernel.accessAllowed ? 'block' : 'none';\n",
              "\n",
              "        async function convertToInteractive(key) {\n",
              "          const element = document.querySelector('#df-8a224708-9593-4b54-8242-f950bd7d8a5c');\n",
              "          const dataTable =\n",
              "            await google.colab.kernel.invokeFunction('convertToInteractive',\n",
              "                                                     [key], {});\n",
              "          if (!dataTable) return;\n",
              "\n",
              "          const docLinkHtml = 'Like what you see? Visit the ' +\n",
              "            '<a target=\"_blank\" href=https://colab.research.google.com/notebooks/data_table.ipynb>data table notebook</a>'\n",
              "            + ' to learn more about interactive tables.';\n",
              "          element.innerHTML = '';\n",
              "          dataTable['output_type'] = 'display_data';\n",
              "          await google.colab.output.renderOutput(dataTable, element);\n",
              "          const docLink = document.createElement('div');\n",
              "          docLink.innerHTML = docLinkHtml;\n",
              "          element.appendChild(docLink);\n",
              "        }\n",
              "      </script>\n",
              "    </div>\n",
              "  </div>\n",
              "  "
            ]
          },
          "metadata": {},
          "execution_count": 4
        }
      ]
    },
    {
      "cell_type": "markdown",
      "source": [
        "## Predict with Finbert"
      ],
      "metadata": {
        "id": "E9dI4sb_SjKL"
      }
    },
    {
      "cell_type": "code",
      "source": [
        "tqdm.pandas()\n",
        "\n",
        "df['finbert_result'] = df['sentence_simple'].progress_apply(lambda x: finbert(x))\n",
        "\n",
        "df['label_new'] = df['finbert_result'].apply(lambda x: x[0]['label'])\n",
        "df['score_new'] = df['finbert_result'].apply(lambda x: x[0]['score'])\n",
        "\n",
        "df.drop('finbert_result', axis=1, inplace=True)"
      ],
      "metadata": {
        "id": "6lqwQdWC8-Yw"
      },
      "execution_count": 7,
      "outputs": []
    },
    {
      "cell_type": "code",
      "source": [
        "df.head()"
      ],
      "metadata": {
        "colab": {
          "base_uri": "https://localhost:8080/",
          "height": 336
        },
        "id": "LESgDWsY5cbE",
        "outputId": "e55237b4-af1f-4d22-89d0-fb8962f653d8"
      },
      "execution_count": 8,
      "outputs": [
        {
          "output_type": "execute_result",
          "data": {
            "text/plain": [
              "                                            sentence     label     score  \\\n",
              "0  The Manager of the System Open Market Account ...   Neutral  0.999998   \n",
              "1  There were no open market operations in foreig...   Neutral  0.999987   \n",
              "2  The Manager also reported on developments in d...   Neutral  0.999989   \n",
              "3  By unanimous vote, the Committee ratified thes...  Positive  1.000000   \n",
              "4  Industrial production rebounded, and employmen...  Positive  0.999996   \n",
              "\n",
              "                                     sentence_simple  focus_ornot label_new  \\\n",
              "0  The Manager of the System Open Market Account ...            0   Neutral   \n",
              "1  There were no open market operations in foreig...            0   Neutral   \n",
              "2  The Manager also reported on developments in d...            0   Neutral   \n",
              "3  By unanimous vote, the Committee ratified thes...            0  Positive   \n",
              "4  Industrial production rebounded, and employmen...            0  Positive   \n",
              "\n",
              "   score_new  \n",
              "0   0.999998  \n",
              "1   0.999987  \n",
              "2   0.999989  \n",
              "3   1.000000  \n",
              "4   0.999996  "
            ],
            "text/html": [
              "\n",
              "  <div id=\"df-0146fd60-df6d-4c58-bf73-8ffd16254a5e\">\n",
              "    <div class=\"colab-df-container\">\n",
              "      <div>\n",
              "<style scoped>\n",
              "    .dataframe tbody tr th:only-of-type {\n",
              "        vertical-align: middle;\n",
              "    }\n",
              "\n",
              "    .dataframe tbody tr th {\n",
              "        vertical-align: top;\n",
              "    }\n",
              "\n",
              "    .dataframe thead th {\n",
              "        text-align: right;\n",
              "    }\n",
              "</style>\n",
              "<table border=\"1\" class=\"dataframe\">\n",
              "  <thead>\n",
              "    <tr style=\"text-align: right;\">\n",
              "      <th></th>\n",
              "      <th>sentence</th>\n",
              "      <th>label</th>\n",
              "      <th>score</th>\n",
              "      <th>sentence_simple</th>\n",
              "      <th>focus_ornot</th>\n",
              "      <th>label_new</th>\n",
              "      <th>score_new</th>\n",
              "    </tr>\n",
              "  </thead>\n",
              "  <tbody>\n",
              "    <tr>\n",
              "      <th>0</th>\n",
              "      <td>The Manager of the System Open Market Account ...</td>\n",
              "      <td>Neutral</td>\n",
              "      <td>0.999998</td>\n",
              "      <td>The Manager of the System Open Market Account ...</td>\n",
              "      <td>0</td>\n",
              "      <td>Neutral</td>\n",
              "      <td>0.999998</td>\n",
              "    </tr>\n",
              "    <tr>\n",
              "      <th>1</th>\n",
              "      <td>There were no open market operations in foreig...</td>\n",
              "      <td>Neutral</td>\n",
              "      <td>0.999987</td>\n",
              "      <td>There were no open market operations in foreig...</td>\n",
              "      <td>0</td>\n",
              "      <td>Neutral</td>\n",
              "      <td>0.999987</td>\n",
              "    </tr>\n",
              "    <tr>\n",
              "      <th>2</th>\n",
              "      <td>The Manager also reported on developments in d...</td>\n",
              "      <td>Neutral</td>\n",
              "      <td>0.999989</td>\n",
              "      <td>The Manager also reported on developments in d...</td>\n",
              "      <td>0</td>\n",
              "      <td>Neutral</td>\n",
              "      <td>0.999989</td>\n",
              "    </tr>\n",
              "    <tr>\n",
              "      <th>3</th>\n",
              "      <td>By unanimous vote, the Committee ratified thes...</td>\n",
              "      <td>Positive</td>\n",
              "      <td>1.000000</td>\n",
              "      <td>By unanimous vote, the Committee ratified thes...</td>\n",
              "      <td>0</td>\n",
              "      <td>Positive</td>\n",
              "      <td>1.000000</td>\n",
              "    </tr>\n",
              "    <tr>\n",
              "      <th>4</th>\n",
              "      <td>Industrial production rebounded, and employmen...</td>\n",
              "      <td>Positive</td>\n",
              "      <td>0.999996</td>\n",
              "      <td>Industrial production rebounded, and employmen...</td>\n",
              "      <td>0</td>\n",
              "      <td>Positive</td>\n",
              "      <td>0.999996</td>\n",
              "    </tr>\n",
              "  </tbody>\n",
              "</table>\n",
              "</div>\n",
              "      <button class=\"colab-df-convert\" onclick=\"convertToInteractive('df-0146fd60-df6d-4c58-bf73-8ffd16254a5e')\"\n",
              "              title=\"Convert this dataframe to an interactive table.\"\n",
              "              style=\"display:none;\">\n",
              "        \n",
              "  <svg xmlns=\"http://www.w3.org/2000/svg\" height=\"24px\"viewBox=\"0 0 24 24\"\n",
              "       width=\"24px\">\n",
              "    <path d=\"M0 0h24v24H0V0z\" fill=\"none\"/>\n",
              "    <path d=\"M18.56 5.44l.94 2.06.94-2.06 2.06-.94-2.06-.94-.94-2.06-.94 2.06-2.06.94zm-11 1L8.5 8.5l.94-2.06 2.06-.94-2.06-.94L8.5 2.5l-.94 2.06-2.06.94zm10 10l.94 2.06.94-2.06 2.06-.94-2.06-.94-.94-2.06-.94 2.06-2.06.94z\"/><path d=\"M17.41 7.96l-1.37-1.37c-.4-.4-.92-.59-1.43-.59-.52 0-1.04.2-1.43.59L10.3 9.45l-7.72 7.72c-.78.78-.78 2.05 0 2.83L4 21.41c.39.39.9.59 1.41.59.51 0 1.02-.2 1.41-.59l7.78-7.78 2.81-2.81c.8-.78.8-2.07 0-2.86zM5.41 20L4 18.59l7.72-7.72 1.47 1.35L5.41 20z\"/>\n",
              "  </svg>\n",
              "      </button>\n",
              "      \n",
              "  <style>\n",
              "    .colab-df-container {\n",
              "      display:flex;\n",
              "      flex-wrap:wrap;\n",
              "      gap: 12px;\n",
              "    }\n",
              "\n",
              "    .colab-df-convert {\n",
              "      background-color: #E8F0FE;\n",
              "      border: none;\n",
              "      border-radius: 50%;\n",
              "      cursor: pointer;\n",
              "      display: none;\n",
              "      fill: #1967D2;\n",
              "      height: 32px;\n",
              "      padding: 0 0 0 0;\n",
              "      width: 32px;\n",
              "    }\n",
              "\n",
              "    .colab-df-convert:hover {\n",
              "      background-color: #E2EBFA;\n",
              "      box-shadow: 0px 1px 2px rgba(60, 64, 67, 0.3), 0px 1px 3px 1px rgba(60, 64, 67, 0.15);\n",
              "      fill: #174EA6;\n",
              "    }\n",
              "\n",
              "    [theme=dark] .colab-df-convert {\n",
              "      background-color: #3B4455;\n",
              "      fill: #D2E3FC;\n",
              "    }\n",
              "\n",
              "    [theme=dark] .colab-df-convert:hover {\n",
              "      background-color: #434B5C;\n",
              "      box-shadow: 0px 1px 3px 1px rgba(0, 0, 0, 0.15);\n",
              "      filter: drop-shadow(0px 1px 2px rgba(0, 0, 0, 0.3));\n",
              "      fill: #FFFFFF;\n",
              "    }\n",
              "  </style>\n",
              "\n",
              "      <script>\n",
              "        const buttonEl =\n",
              "          document.querySelector('#df-0146fd60-df6d-4c58-bf73-8ffd16254a5e button.colab-df-convert');\n",
              "        buttonEl.style.display =\n",
              "          google.colab.kernel.accessAllowed ? 'block' : 'none';\n",
              "\n",
              "        async function convertToInteractive(key) {\n",
              "          const element = document.querySelector('#df-0146fd60-df6d-4c58-bf73-8ffd16254a5e');\n",
              "          const dataTable =\n",
              "            await google.colab.kernel.invokeFunction('convertToInteractive',\n",
              "                                                     [key], {});\n",
              "          if (!dataTable) return;\n",
              "\n",
              "          const docLinkHtml = 'Like what you see? Visit the ' +\n",
              "            '<a target=\"_blank\" href=https://colab.research.google.com/notebooks/data_table.ipynb>data table notebook</a>'\n",
              "            + ' to learn more about interactive tables.';\n",
              "          element.innerHTML = '';\n",
              "          dataTable['output_type'] = 'display_data';\n",
              "          await google.colab.output.renderOutput(dataTable, element);\n",
              "          const docLink = document.createElement('div');\n",
              "          docLink.innerHTML = docLinkHtml;\n",
              "          element.appendChild(docLink);\n",
              "        }\n",
              "      </script>\n",
              "    </div>\n",
              "  </div>\n",
              "  "
            ]
          },
          "metadata": {},
          "execution_count": 8
        }
      ]
    },
    {
      "cell_type": "markdown",
      "source": [
        "## Only select changed sentences"
      ],
      "metadata": {
        "id": "-JCDahTTSrF2"
      }
    },
    {
      "cell_type": "code",
      "source": [
        "df_change = df.loc[df['focus_ornot'] == 1]"
      ],
      "metadata": {
        "id": "kR4qNOYZGTnR"
      },
      "execution_count": 10,
      "outputs": []
    },
    {
      "cell_type": "code",
      "source": [
        "df_change.info()"
      ],
      "metadata": {
        "colab": {
          "base_uri": "https://localhost:8080/"
        },
        "id": "aFMrrJSvJSwN",
        "outputId": "c6c2ad38-d18f-462c-a807-6967e24a6570"
      },
      "execution_count": 12,
      "outputs": [
        {
          "output_type": "stream",
          "name": "stdout",
          "text": [
            "<class 'pandas.core.frame.DataFrame'>\n",
            "Int64Index: 4133 entries, 5 to 26403\n",
            "Data columns (total 7 columns):\n",
            " #   Column           Non-Null Count  Dtype  \n",
            "---  ------           --------------  -----  \n",
            " 0   sentence         4133 non-null   object \n",
            " 1   label            4133 non-null   object \n",
            " 2   score            4133 non-null   float64\n",
            " 3   sentence_simple  4133 non-null   object \n",
            " 4   focus_ornot      4133 non-null   int64  \n",
            " 5   label_new        4133 non-null   object \n",
            " 6   score_new        4133 non-null   float64\n",
            "dtypes: float64(2), int64(1), object(4)\n",
            "memory usage: 258.3+ KB\n"
          ]
        }
      ]
    },
    {
      "cell_type": "code",
      "source": [
        "df_change.head()"
      ],
      "metadata": {
        "colab": {
          "base_uri": "https://localhost:8080/",
          "height": 336
        },
        "id": "4lYgSJ_OJUke",
        "outputId": "856b529d-f81d-49a2-ec47-d2df38e2cad3"
      },
      "execution_count": 13,
      "outputs": [
        {
          "output_type": "execute_result",
          "data": {
            "text/plain": [
              "                                             sentence     label     score  \\\n",
              "5   Although some scattered signs of cooling of th...  Negative  0.645584   \n",
              "10  With employment rising but the average workwee...  Negative  0.999218   \n",
              "19  Real disposable personal income was bolstered ...  Positive  1.000000   \n",
              "21  The personal saving rate--while still slightly...  Positive  0.997309   \n",
              "22  Starts of new single-family homes dropped back...  Negative  0.950385   \n",
              "\n",
              "                                      sentence_simple  focus_ornot label_new  \\\n",
              "5   the pace of construction activity and sales re...            1  Positive   \n",
              "10  the average workweek of production or nonsuper...            1  Negative   \n",
              "19  Real disposable personal income was bolstered ...            1  Positive   \n",
              "21  The personal saving rate--while still slightly...            1  Positive   \n",
              "22                 permit issuance remained elevated.            1  Negative   \n",
              "\n",
              "    score_new  \n",
              "5    0.363114  \n",
              "10   0.997591  \n",
              "19   1.000000  \n",
              "21   0.997309  \n",
              "22   0.691221  "
            ],
            "text/html": [
              "\n",
              "  <div id=\"df-9dfcce6a-00cb-494e-b6ae-17ac6450c385\">\n",
              "    <div class=\"colab-df-container\">\n",
              "      <div>\n",
              "<style scoped>\n",
              "    .dataframe tbody tr th:only-of-type {\n",
              "        vertical-align: middle;\n",
              "    }\n",
              "\n",
              "    .dataframe tbody tr th {\n",
              "        vertical-align: top;\n",
              "    }\n",
              "\n",
              "    .dataframe thead th {\n",
              "        text-align: right;\n",
              "    }\n",
              "</style>\n",
              "<table border=\"1\" class=\"dataframe\">\n",
              "  <thead>\n",
              "    <tr style=\"text-align: right;\">\n",
              "      <th></th>\n",
              "      <th>sentence</th>\n",
              "      <th>label</th>\n",
              "      <th>score</th>\n",
              "      <th>sentence_simple</th>\n",
              "      <th>focus_ornot</th>\n",
              "      <th>label_new</th>\n",
              "      <th>score_new</th>\n",
              "    </tr>\n",
              "  </thead>\n",
              "  <tbody>\n",
              "    <tr>\n",
              "      <th>5</th>\n",
              "      <td>Although some scattered signs of cooling of th...</td>\n",
              "      <td>Negative</td>\n",
              "      <td>0.645584</td>\n",
              "      <td>the pace of construction activity and sales re...</td>\n",
              "      <td>1</td>\n",
              "      <td>Positive</td>\n",
              "      <td>0.363114</td>\n",
              "    </tr>\n",
              "    <tr>\n",
              "      <th>10</th>\n",
              "      <td>With employment rising but the average workwee...</td>\n",
              "      <td>Negative</td>\n",
              "      <td>0.999218</td>\n",
              "      <td>the average workweek of production or nonsuper...</td>\n",
              "      <td>1</td>\n",
              "      <td>Negative</td>\n",
              "      <td>0.997591</td>\n",
              "    </tr>\n",
              "    <tr>\n",
              "      <th>19</th>\n",
              "      <td>Real disposable personal income was bolstered ...</td>\n",
              "      <td>Positive</td>\n",
              "      <td>1.000000</td>\n",
              "      <td>Real disposable personal income was bolstered ...</td>\n",
              "      <td>1</td>\n",
              "      <td>Positive</td>\n",
              "      <td>1.000000</td>\n",
              "    </tr>\n",
              "    <tr>\n",
              "      <th>21</th>\n",
              "      <td>The personal saving rate--while still slightly...</td>\n",
              "      <td>Positive</td>\n",
              "      <td>0.997309</td>\n",
              "      <td>The personal saving rate--while still slightly...</td>\n",
              "      <td>1</td>\n",
              "      <td>Positive</td>\n",
              "      <td>0.997309</td>\n",
              "    </tr>\n",
              "    <tr>\n",
              "      <th>22</th>\n",
              "      <td>Starts of new single-family homes dropped back...</td>\n",
              "      <td>Negative</td>\n",
              "      <td>0.950385</td>\n",
              "      <td>permit issuance remained elevated.</td>\n",
              "      <td>1</td>\n",
              "      <td>Negative</td>\n",
              "      <td>0.691221</td>\n",
              "    </tr>\n",
              "  </tbody>\n",
              "</table>\n",
              "</div>\n",
              "      <button class=\"colab-df-convert\" onclick=\"convertToInteractive('df-9dfcce6a-00cb-494e-b6ae-17ac6450c385')\"\n",
              "              title=\"Convert this dataframe to an interactive table.\"\n",
              "              style=\"display:none;\">\n",
              "        \n",
              "  <svg xmlns=\"http://www.w3.org/2000/svg\" height=\"24px\"viewBox=\"0 0 24 24\"\n",
              "       width=\"24px\">\n",
              "    <path d=\"M0 0h24v24H0V0z\" fill=\"none\"/>\n",
              "    <path d=\"M18.56 5.44l.94 2.06.94-2.06 2.06-.94-2.06-.94-.94-2.06-.94 2.06-2.06.94zm-11 1L8.5 8.5l.94-2.06 2.06-.94-2.06-.94L8.5 2.5l-.94 2.06-2.06.94zm10 10l.94 2.06.94-2.06 2.06-.94-2.06-.94-.94-2.06-.94 2.06-2.06.94z\"/><path d=\"M17.41 7.96l-1.37-1.37c-.4-.4-.92-.59-1.43-.59-.52 0-1.04.2-1.43.59L10.3 9.45l-7.72 7.72c-.78.78-.78 2.05 0 2.83L4 21.41c.39.39.9.59 1.41.59.51 0 1.02-.2 1.41-.59l7.78-7.78 2.81-2.81c.8-.78.8-2.07 0-2.86zM5.41 20L4 18.59l7.72-7.72 1.47 1.35L5.41 20z\"/>\n",
              "  </svg>\n",
              "      </button>\n",
              "      \n",
              "  <style>\n",
              "    .colab-df-container {\n",
              "      display:flex;\n",
              "      flex-wrap:wrap;\n",
              "      gap: 12px;\n",
              "    }\n",
              "\n",
              "    .colab-df-convert {\n",
              "      background-color: #E8F0FE;\n",
              "      border: none;\n",
              "      border-radius: 50%;\n",
              "      cursor: pointer;\n",
              "      display: none;\n",
              "      fill: #1967D2;\n",
              "      height: 32px;\n",
              "      padding: 0 0 0 0;\n",
              "      width: 32px;\n",
              "    }\n",
              "\n",
              "    .colab-df-convert:hover {\n",
              "      background-color: #E2EBFA;\n",
              "      box-shadow: 0px 1px 2px rgba(60, 64, 67, 0.3), 0px 1px 3px 1px rgba(60, 64, 67, 0.15);\n",
              "      fill: #174EA6;\n",
              "    }\n",
              "\n",
              "    [theme=dark] .colab-df-convert {\n",
              "      background-color: #3B4455;\n",
              "      fill: #D2E3FC;\n",
              "    }\n",
              "\n",
              "    [theme=dark] .colab-df-convert:hover {\n",
              "      background-color: #434B5C;\n",
              "      box-shadow: 0px 1px 3px 1px rgba(0, 0, 0, 0.15);\n",
              "      filter: drop-shadow(0px 1px 2px rgba(0, 0, 0, 0.3));\n",
              "      fill: #FFFFFF;\n",
              "    }\n",
              "  </style>\n",
              "\n",
              "      <script>\n",
              "        const buttonEl =\n",
              "          document.querySelector('#df-9dfcce6a-00cb-494e-b6ae-17ac6450c385 button.colab-df-convert');\n",
              "        buttonEl.style.display =\n",
              "          google.colab.kernel.accessAllowed ? 'block' : 'none';\n",
              "\n",
              "        async function convertToInteractive(key) {\n",
              "          const element = document.querySelector('#df-9dfcce6a-00cb-494e-b6ae-17ac6450c385');\n",
              "          const dataTable =\n",
              "            await google.colab.kernel.invokeFunction('convertToInteractive',\n",
              "                                                     [key], {});\n",
              "          if (!dataTable) return;\n",
              "\n",
              "          const docLinkHtml = 'Like what you see? Visit the ' +\n",
              "            '<a target=\"_blank\" href=https://colab.research.google.com/notebooks/data_table.ipynb>data table notebook</a>'\n",
              "            + ' to learn more about interactive tables.';\n",
              "          element.innerHTML = '';\n",
              "          dataTable['output_type'] = 'display_data';\n",
              "          await google.colab.output.renderOutput(dataTable, element);\n",
              "          const docLink = document.createElement('div');\n",
              "          docLink.innerHTML = docLinkHtml;\n",
              "          element.appendChild(docLink);\n",
              "        }\n",
              "      </script>\n",
              "    </div>\n",
              "  </div>\n",
              "  "
            ]
          },
          "metadata": {},
          "execution_count": 13
        }
      ]
    },
    {
      "cell_type": "markdown",
      "source": [
        "## Select predicted label changed sentences"
      ],
      "metadata": {
        "id": "-qFjLXeaSxvL"
      }
    },
    {
      "cell_type": "code",
      "source": [
        "df_change1 = df_change.loc[df_change.label != df_change.label_new]"
      ],
      "metadata": {
        "id": "f7v4ULfJJflS"
      },
      "execution_count": 14,
      "outputs": []
    },
    {
      "cell_type": "code",
      "source": [
        "df_change1.info()"
      ],
      "metadata": {
        "colab": {
          "base_uri": "https://localhost:8080/"
        },
        "id": "hVbqm2M2JycS",
        "outputId": "e06d74db-c66e-43d2-cb7b-4aeed8a84702"
      },
      "execution_count": 15,
      "outputs": [
        {
          "output_type": "stream",
          "name": "stdout",
          "text": [
            "<class 'pandas.core.frame.DataFrame'>\n",
            "Int64Index: 1208 entries, 5 to 26390\n",
            "Data columns (total 7 columns):\n",
            " #   Column           Non-Null Count  Dtype  \n",
            "---  ------           --------------  -----  \n",
            " 0   sentence         1208 non-null   object \n",
            " 1   label            1208 non-null   object \n",
            " 2   score            1208 non-null   float64\n",
            " 3   sentence_simple  1208 non-null   object \n",
            " 4   focus_ornot      1208 non-null   int64  \n",
            " 5   label_new        1208 non-null   object \n",
            " 6   score_new        1208 non-null   float64\n",
            "dtypes: float64(2), int64(1), object(4)\n",
            "memory usage: 75.5+ KB\n"
          ]
        }
      ]
    },
    {
      "cell_type": "code",
      "source": [
        "df_change1.head()"
      ],
      "metadata": {
        "colab": {
          "base_uri": "https://localhost:8080/",
          "height": 772
        },
        "id": "eXqFwGL2J0sK",
        "outputId": "c8b27324-6dbe-4b46-d6f6-ca0d2f587180"
      },
      "execution_count": 17,
      "outputs": [
        {
          "output_type": "execute_result",
          "data": {
            "text/plain": [
              "                                             sentence     label     score  \\\n",
              "5   Although some scattered signs of cooling of th...  Negative  0.645584   \n",
              "33  Foreign industrialized economies expanded robu...  Positive  1.000000   \n",
              "38  Longer-term inflation expectations also edged ...  Positive  0.970137   \n",
              "46  In these circumstances, the Committee believed...   Neutral  0.929808   \n",
              "55  Although hurricane-related rebuilding would bo...  Positive  0.593083   \n",
              "\n",
              "                                      sentence_simple  focus_ornot label_new  \\\n",
              "5   the pace of construction activity and sales re...            1  Positive   \n",
              "33             especially in transportation services.            1  Negative   \n",
              "38  stayed a touch above the narrow range observed...            1   Neutral   \n",
              "46  noted that it would respond to changes in econ...            1  Negative   \n",
              "55  especially in the near term, this stimulus inc...            1  Negative   \n",
              "\n",
              "    score_new  \n",
              "5    0.363114  \n",
              "33   0.492485  \n",
              "38   0.946409  \n",
              "46   0.516684  \n",
              "55   0.998140  "
            ],
            "text/html": [
              "\n",
              "  <div id=\"df-a90cf884-1493-4509-9599-eaf090040e35\">\n",
              "    <div class=\"colab-df-container\">\n",
              "      <div>\n",
              "<style scoped>\n",
              "    .dataframe tbody tr th:only-of-type {\n",
              "        vertical-align: middle;\n",
              "    }\n",
              "\n",
              "    .dataframe tbody tr th {\n",
              "        vertical-align: top;\n",
              "    }\n",
              "\n",
              "    .dataframe thead th {\n",
              "        text-align: right;\n",
              "    }\n",
              "</style>\n",
              "<table border=\"1\" class=\"dataframe\">\n",
              "  <thead>\n",
              "    <tr style=\"text-align: right;\">\n",
              "      <th></th>\n",
              "      <th>sentence</th>\n",
              "      <th>label</th>\n",
              "      <th>score</th>\n",
              "      <th>sentence_simple</th>\n",
              "      <th>focus_ornot</th>\n",
              "      <th>label_new</th>\n",
              "      <th>score_new</th>\n",
              "    </tr>\n",
              "  </thead>\n",
              "  <tbody>\n",
              "    <tr>\n",
              "      <th>5</th>\n",
              "      <td>Although some scattered signs of cooling of th...</td>\n",
              "      <td>Negative</td>\n",
              "      <td>0.645584</td>\n",
              "      <td>the pace of construction activity and sales re...</td>\n",
              "      <td>1</td>\n",
              "      <td>Positive</td>\n",
              "      <td>0.363114</td>\n",
              "    </tr>\n",
              "    <tr>\n",
              "      <th>33</th>\n",
              "      <td>Foreign industrialized economies expanded robu...</td>\n",
              "      <td>Positive</td>\n",
              "      <td>1.000000</td>\n",
              "      <td>especially in transportation services.</td>\n",
              "      <td>1</td>\n",
              "      <td>Negative</td>\n",
              "      <td>0.492485</td>\n",
              "    </tr>\n",
              "    <tr>\n",
              "      <th>38</th>\n",
              "      <td>Longer-term inflation expectations also edged ...</td>\n",
              "      <td>Positive</td>\n",
              "      <td>0.970137</td>\n",
              "      <td>stayed a touch above the narrow range observed...</td>\n",
              "      <td>1</td>\n",
              "      <td>Neutral</td>\n",
              "      <td>0.946409</td>\n",
              "    </tr>\n",
              "    <tr>\n",
              "      <th>46</th>\n",
              "      <td>In these circumstances, the Committee believed...</td>\n",
              "      <td>Neutral</td>\n",
              "      <td>0.929808</td>\n",
              "      <td>noted that it would respond to changes in econ...</td>\n",
              "      <td>1</td>\n",
              "      <td>Negative</td>\n",
              "      <td>0.516684</td>\n",
              "    </tr>\n",
              "    <tr>\n",
              "      <th>55</th>\n",
              "      <td>Although hurricane-related rebuilding would bo...</td>\n",
              "      <td>Positive</td>\n",
              "      <td>0.593083</td>\n",
              "      <td>especially in the near term, this stimulus inc...</td>\n",
              "      <td>1</td>\n",
              "      <td>Negative</td>\n",
              "      <td>0.998140</td>\n",
              "    </tr>\n",
              "  </tbody>\n",
              "</table>\n",
              "</div>\n",
              "      <button class=\"colab-df-convert\" onclick=\"convertToInteractive('df-a90cf884-1493-4509-9599-eaf090040e35')\"\n",
              "              title=\"Convert this dataframe to an interactive table.\"\n",
              "              style=\"display:none;\">\n",
              "        \n",
              "  <svg xmlns=\"http://www.w3.org/2000/svg\" height=\"24px\"viewBox=\"0 0 24 24\"\n",
              "       width=\"24px\">\n",
              "    <path d=\"M0 0h24v24H0V0z\" fill=\"none\"/>\n",
              "    <path d=\"M18.56 5.44l.94 2.06.94-2.06 2.06-.94-2.06-.94-.94-2.06-.94 2.06-2.06.94zm-11 1L8.5 8.5l.94-2.06 2.06-.94-2.06-.94L8.5 2.5l-.94 2.06-2.06.94zm10 10l.94 2.06.94-2.06 2.06-.94-2.06-.94-.94-2.06-.94 2.06-2.06.94z\"/><path d=\"M17.41 7.96l-1.37-1.37c-.4-.4-.92-.59-1.43-.59-.52 0-1.04.2-1.43.59L10.3 9.45l-7.72 7.72c-.78.78-.78 2.05 0 2.83L4 21.41c.39.39.9.59 1.41.59.51 0 1.02-.2 1.41-.59l7.78-7.78 2.81-2.81c.8-.78.8-2.07 0-2.86zM5.41 20L4 18.59l7.72-7.72 1.47 1.35L5.41 20z\"/>\n",
              "  </svg>\n",
              "      </button>\n",
              "      \n",
              "  <style>\n",
              "    .colab-df-container {\n",
              "      display:flex;\n",
              "      flex-wrap:wrap;\n",
              "      gap: 12px;\n",
              "    }\n",
              "\n",
              "    .colab-df-convert {\n",
              "      background-color: #E8F0FE;\n",
              "      border: none;\n",
              "      border-radius: 50%;\n",
              "      cursor: pointer;\n",
              "      display: none;\n",
              "      fill: #1967D2;\n",
              "      height: 32px;\n",
              "      padding: 0 0 0 0;\n",
              "      width: 32px;\n",
              "    }\n",
              "\n",
              "    .colab-df-convert:hover {\n",
              "      background-color: #E2EBFA;\n",
              "      box-shadow: 0px 1px 2px rgba(60, 64, 67, 0.3), 0px 1px 3px 1px rgba(60, 64, 67, 0.15);\n",
              "      fill: #174EA6;\n",
              "    }\n",
              "\n",
              "    [theme=dark] .colab-df-convert {\n",
              "      background-color: #3B4455;\n",
              "      fill: #D2E3FC;\n",
              "    }\n",
              "\n",
              "    [theme=dark] .colab-df-convert:hover {\n",
              "      background-color: #434B5C;\n",
              "      box-shadow: 0px 1px 3px 1px rgba(0, 0, 0, 0.15);\n",
              "      filter: drop-shadow(0px 1px 2px rgba(0, 0, 0, 0.3));\n",
              "      fill: #FFFFFF;\n",
              "    }\n",
              "  </style>\n",
              "\n",
              "      <script>\n",
              "        const buttonEl =\n",
              "          document.querySelector('#df-a90cf884-1493-4509-9599-eaf090040e35 button.colab-df-convert');\n",
              "        buttonEl.style.display =\n",
              "          google.colab.kernel.accessAllowed ? 'block' : 'none';\n",
              "\n",
              "        async function convertToInteractive(key) {\n",
              "          const element = document.querySelector('#df-a90cf884-1493-4509-9599-eaf090040e35');\n",
              "          const dataTable =\n",
              "            await google.colab.kernel.invokeFunction('convertToInteractive',\n",
              "                                                     [key], {});\n",
              "          if (!dataTable) return;\n",
              "\n",
              "          const docLinkHtml = 'Like what you see? Visit the ' +\n",
              "            '<a target=\"_blank\" href=https://colab.research.google.com/notebooks/data_table.ipynb>data table notebook</a>'\n",
              "            + ' to learn more about interactive tables.';\n",
              "          element.innerHTML = '';\n",
              "          dataTable['output_type'] = 'display_data';\n",
              "          await google.colab.output.renderOutput(dataTable, element);\n",
              "          const docLink = document.createElement('div');\n",
              "          docLink.innerHTML = docLinkHtml;\n",
              "          element.appendChild(docLink);\n",
              "        }\n",
              "      </script>\n",
              "    </div>\n",
              "  </div>\n",
              "  "
            ]
          },
          "metadata": {},
          "execution_count": 17
        }
      ]
    },
    {
      "cell_type": "code",
      "source": [
        "df_change1.to_csv(\"changing_labels.csv\",index=False)"
      ],
      "metadata": {
        "id": "dx0X65AVJ331"
      },
      "execution_count": 18,
      "outputs": []
    },
    {
      "cell_type": "code",
      "source": [],
      "metadata": {
        "id": "ljKvG7SKXCXQ"
      },
      "execution_count": null,
      "outputs": []
    }
  ],
  "metadata": {
    "colab": {
      "provenance": [],
      "authorship_tag": "ABX9TyMf9FXyE+lzY9YBrdBKeUEX",
      "include_colab_link": true
    },
    "kernelspec": {
      "display_name": "Python 3",
      "name": "python3"
    },
    "language_info": {
      "name": "python"
    },
    "widgets": {
      "application/vnd.jupyter.widget-state+json": {
        "ade33a8621a0471cbf88e8d71c0766f1": {
          "model_module": "@jupyter-widgets/controls",
          "model_name": "HBoxModel",
          "model_module_version": "1.5.0",
          "state": {
            "_dom_classes": [],
            "_model_module": "@jupyter-widgets/controls",
            "_model_module_version": "1.5.0",
            "_model_name": "HBoxModel",
            "_view_count": null,
            "_view_module": "@jupyter-widgets/controls",
            "_view_module_version": "1.5.0",
            "_view_name": "HBoxView",
            "box_style": "",
            "children": [
              "IPY_MODEL_0eba8781f3254abfb112e6f7a4fe914f",
              "IPY_MODEL_c206b89964eb4c829f214c6a124cd4eb",
              "IPY_MODEL_7998424328b840b6b96e7454cb64a6fc"
            ],
            "layout": "IPY_MODEL_379a7f41d39e46f8b9a026ed73721ece"
          }
        },
        "0eba8781f3254abfb112e6f7a4fe914f": {
          "model_module": "@jupyter-widgets/controls",
          "model_name": "HTMLModel",
          "model_module_version": "1.5.0",
          "state": {
            "_dom_classes": [],
            "_model_module": "@jupyter-widgets/controls",
            "_model_module_version": "1.5.0",
            "_model_name": "HTMLModel",
            "_view_count": null,
            "_view_module": "@jupyter-widgets/controls",
            "_view_module_version": "1.5.0",
            "_view_name": "HTMLView",
            "description": "",
            "description_tooltip": null,
            "layout": "IPY_MODEL_1f9fbeb96c3a4267966aa5e3777f2fab",
            "placeholder": "​",
            "style": "IPY_MODEL_8467944264654fbdb4297c7a7b49271f",
            "value": "Downloading (…)lve/main/config.json: 100%"
          }
        },
        "c206b89964eb4c829f214c6a124cd4eb": {
          "model_module": "@jupyter-widgets/controls",
          "model_name": "FloatProgressModel",
          "model_module_version": "1.5.0",
          "state": {
            "_dom_classes": [],
            "_model_module": "@jupyter-widgets/controls",
            "_model_module_version": "1.5.0",
            "_model_name": "FloatProgressModel",
            "_view_count": null,
            "_view_module": "@jupyter-widgets/controls",
            "_view_module_version": "1.5.0",
            "_view_name": "ProgressView",
            "bar_style": "success",
            "description": "",
            "description_tooltip": null,
            "layout": "IPY_MODEL_979f24aff60246f7af200f4458e66abc",
            "max": 533,
            "min": 0,
            "orientation": "horizontal",
            "style": "IPY_MODEL_7d0ceec9c9cb4d989adef6c0229cc5a5",
            "value": 533
          }
        },
        "7998424328b840b6b96e7454cb64a6fc": {
          "model_module": "@jupyter-widgets/controls",
          "model_name": "HTMLModel",
          "model_module_version": "1.5.0",
          "state": {
            "_dom_classes": [],
            "_model_module": "@jupyter-widgets/controls",
            "_model_module_version": "1.5.0",
            "_model_name": "HTMLModel",
            "_view_count": null,
            "_view_module": "@jupyter-widgets/controls",
            "_view_module_version": "1.5.0",
            "_view_name": "HTMLView",
            "description": "",
            "description_tooltip": null,
            "layout": "IPY_MODEL_a848878f806f4b0aad2b6403f74b990b",
            "placeholder": "​",
            "style": "IPY_MODEL_8e5db6dd559a46638570cd60da01c37d",
            "value": " 533/533 [00:00&lt;00:00, 11.7kB/s]"
          }
        },
        "379a7f41d39e46f8b9a026ed73721ece": {
          "model_module": "@jupyter-widgets/base",
          "model_name": "LayoutModel",
          "model_module_version": "1.2.0",
          "state": {
            "_model_module": "@jupyter-widgets/base",
            "_model_module_version": "1.2.0",
            "_model_name": "LayoutModel",
            "_view_count": null,
            "_view_module": "@jupyter-widgets/base",
            "_view_module_version": "1.2.0",
            "_view_name": "LayoutView",
            "align_content": null,
            "align_items": null,
            "align_self": null,
            "border": null,
            "bottom": null,
            "display": null,
            "flex": null,
            "flex_flow": null,
            "grid_area": null,
            "grid_auto_columns": null,
            "grid_auto_flow": null,
            "grid_auto_rows": null,
            "grid_column": null,
            "grid_gap": null,
            "grid_row": null,
            "grid_template_areas": null,
            "grid_template_columns": null,
            "grid_template_rows": null,
            "height": null,
            "justify_content": null,
            "justify_items": null,
            "left": null,
            "margin": null,
            "max_height": null,
            "max_width": null,
            "min_height": null,
            "min_width": null,
            "object_fit": null,
            "object_position": null,
            "order": null,
            "overflow": null,
            "overflow_x": null,
            "overflow_y": null,
            "padding": null,
            "right": null,
            "top": null,
            "visibility": null,
            "width": null
          }
        },
        "1f9fbeb96c3a4267966aa5e3777f2fab": {
          "model_module": "@jupyter-widgets/base",
          "model_name": "LayoutModel",
          "model_module_version": "1.2.0",
          "state": {
            "_model_module": "@jupyter-widgets/base",
            "_model_module_version": "1.2.0",
            "_model_name": "LayoutModel",
            "_view_count": null,
            "_view_module": "@jupyter-widgets/base",
            "_view_module_version": "1.2.0",
            "_view_name": "LayoutView",
            "align_content": null,
            "align_items": null,
            "align_self": null,
            "border": null,
            "bottom": null,
            "display": null,
            "flex": null,
            "flex_flow": null,
            "grid_area": null,
            "grid_auto_columns": null,
            "grid_auto_flow": null,
            "grid_auto_rows": null,
            "grid_column": null,
            "grid_gap": null,
            "grid_row": null,
            "grid_template_areas": null,
            "grid_template_columns": null,
            "grid_template_rows": null,
            "height": null,
            "justify_content": null,
            "justify_items": null,
            "left": null,
            "margin": null,
            "max_height": null,
            "max_width": null,
            "min_height": null,
            "min_width": null,
            "object_fit": null,
            "object_position": null,
            "order": null,
            "overflow": null,
            "overflow_x": null,
            "overflow_y": null,
            "padding": null,
            "right": null,
            "top": null,
            "visibility": null,
            "width": null
          }
        },
        "8467944264654fbdb4297c7a7b49271f": {
          "model_module": "@jupyter-widgets/controls",
          "model_name": "DescriptionStyleModel",
          "model_module_version": "1.5.0",
          "state": {
            "_model_module": "@jupyter-widgets/controls",
            "_model_module_version": "1.5.0",
            "_model_name": "DescriptionStyleModel",
            "_view_count": null,
            "_view_module": "@jupyter-widgets/base",
            "_view_module_version": "1.2.0",
            "_view_name": "StyleView",
            "description_width": ""
          }
        },
        "979f24aff60246f7af200f4458e66abc": {
          "model_module": "@jupyter-widgets/base",
          "model_name": "LayoutModel",
          "model_module_version": "1.2.0",
          "state": {
            "_model_module": "@jupyter-widgets/base",
            "_model_module_version": "1.2.0",
            "_model_name": "LayoutModel",
            "_view_count": null,
            "_view_module": "@jupyter-widgets/base",
            "_view_module_version": "1.2.0",
            "_view_name": "LayoutView",
            "align_content": null,
            "align_items": null,
            "align_self": null,
            "border": null,
            "bottom": null,
            "display": null,
            "flex": null,
            "flex_flow": null,
            "grid_area": null,
            "grid_auto_columns": null,
            "grid_auto_flow": null,
            "grid_auto_rows": null,
            "grid_column": null,
            "grid_gap": null,
            "grid_row": null,
            "grid_template_areas": null,
            "grid_template_columns": null,
            "grid_template_rows": null,
            "height": null,
            "justify_content": null,
            "justify_items": null,
            "left": null,
            "margin": null,
            "max_height": null,
            "max_width": null,
            "min_height": null,
            "min_width": null,
            "object_fit": null,
            "object_position": null,
            "order": null,
            "overflow": null,
            "overflow_x": null,
            "overflow_y": null,
            "padding": null,
            "right": null,
            "top": null,
            "visibility": null,
            "width": null
          }
        },
        "7d0ceec9c9cb4d989adef6c0229cc5a5": {
          "model_module": "@jupyter-widgets/controls",
          "model_name": "ProgressStyleModel",
          "model_module_version": "1.5.0",
          "state": {
            "_model_module": "@jupyter-widgets/controls",
            "_model_module_version": "1.5.0",
            "_model_name": "ProgressStyleModel",
            "_view_count": null,
            "_view_module": "@jupyter-widgets/base",
            "_view_module_version": "1.2.0",
            "_view_name": "StyleView",
            "bar_color": null,
            "description_width": ""
          }
        },
        "a848878f806f4b0aad2b6403f74b990b": {
          "model_module": "@jupyter-widgets/base",
          "model_name": "LayoutModel",
          "model_module_version": "1.2.0",
          "state": {
            "_model_module": "@jupyter-widgets/base",
            "_model_module_version": "1.2.0",
            "_model_name": "LayoutModel",
            "_view_count": null,
            "_view_module": "@jupyter-widgets/base",
            "_view_module_version": "1.2.0",
            "_view_name": "LayoutView",
            "align_content": null,
            "align_items": null,
            "align_self": null,
            "border": null,
            "bottom": null,
            "display": null,
            "flex": null,
            "flex_flow": null,
            "grid_area": null,
            "grid_auto_columns": null,
            "grid_auto_flow": null,
            "grid_auto_rows": null,
            "grid_column": null,
            "grid_gap": null,
            "grid_row": null,
            "grid_template_areas": null,
            "grid_template_columns": null,
            "grid_template_rows": null,
            "height": null,
            "justify_content": null,
            "justify_items": null,
            "left": null,
            "margin": null,
            "max_height": null,
            "max_width": null,
            "min_height": null,
            "min_width": null,
            "object_fit": null,
            "object_position": null,
            "order": null,
            "overflow": null,
            "overflow_x": null,
            "overflow_y": null,
            "padding": null,
            "right": null,
            "top": null,
            "visibility": null,
            "width": null
          }
        },
        "8e5db6dd559a46638570cd60da01c37d": {
          "model_module": "@jupyter-widgets/controls",
          "model_name": "DescriptionStyleModel",
          "model_module_version": "1.5.0",
          "state": {
            "_model_module": "@jupyter-widgets/controls",
            "_model_module_version": "1.5.0",
            "_model_name": "DescriptionStyleModel",
            "_view_count": null,
            "_view_module": "@jupyter-widgets/base",
            "_view_module_version": "1.2.0",
            "_view_name": "StyleView",
            "description_width": ""
          }
        },
        "71df292481714f2ea9a00be5a0cdb123": {
          "model_module": "@jupyter-widgets/controls",
          "model_name": "HBoxModel",
          "model_module_version": "1.5.0",
          "state": {
            "_dom_classes": [],
            "_model_module": "@jupyter-widgets/controls",
            "_model_module_version": "1.5.0",
            "_model_name": "HBoxModel",
            "_view_count": null,
            "_view_module": "@jupyter-widgets/controls",
            "_view_module_version": "1.5.0",
            "_view_name": "HBoxView",
            "box_style": "",
            "children": [
              "IPY_MODEL_a41f37b7d6394a359b1bff40053131a2",
              "IPY_MODEL_6056794260c44c35853d744e459faea9",
              "IPY_MODEL_c6972e45540b405087b39cab5914a968"
            ],
            "layout": "IPY_MODEL_4ffe944e3d5447bbaa0cdd6a4e79a0f0"
          }
        },
        "a41f37b7d6394a359b1bff40053131a2": {
          "model_module": "@jupyter-widgets/controls",
          "model_name": "HTMLModel",
          "model_module_version": "1.5.0",
          "state": {
            "_dom_classes": [],
            "_model_module": "@jupyter-widgets/controls",
            "_model_module_version": "1.5.0",
            "_model_name": "HTMLModel",
            "_view_count": null,
            "_view_module": "@jupyter-widgets/controls",
            "_view_module_version": "1.5.0",
            "_view_name": "HTMLView",
            "description": "",
            "description_tooltip": null,
            "layout": "IPY_MODEL_d583277353414bb6af195af80adc1b57",
            "placeholder": "​",
            "style": "IPY_MODEL_bcf097765eca4398970b5836ec113b91",
            "value": "Downloading pytorch_model.bin: 100%"
          }
        },
        "6056794260c44c35853d744e459faea9": {
          "model_module": "@jupyter-widgets/controls",
          "model_name": "FloatProgressModel",
          "model_module_version": "1.5.0",
          "state": {
            "_dom_classes": [],
            "_model_module": "@jupyter-widgets/controls",
            "_model_module_version": "1.5.0",
            "_model_name": "FloatProgressModel",
            "_view_count": null,
            "_view_module": "@jupyter-widgets/controls",
            "_view_module_version": "1.5.0",
            "_view_name": "ProgressView",
            "bar_style": "success",
            "description": "",
            "description_tooltip": null,
            "layout": "IPY_MODEL_b279ff7b7e5443b5b31a54f4dae3eade",
            "max": 439101405,
            "min": 0,
            "orientation": "horizontal",
            "style": "IPY_MODEL_19492cad13364da3a8cc4b53ba552f7d",
            "value": 439101405
          }
        },
        "c6972e45540b405087b39cab5914a968": {
          "model_module": "@jupyter-widgets/controls",
          "model_name": "HTMLModel",
          "model_module_version": "1.5.0",
          "state": {
            "_dom_classes": [],
            "_model_module": "@jupyter-widgets/controls",
            "_model_module_version": "1.5.0",
            "_model_name": "HTMLModel",
            "_view_count": null,
            "_view_module": "@jupyter-widgets/controls",
            "_view_module_version": "1.5.0",
            "_view_name": "HTMLView",
            "description": "",
            "description_tooltip": null,
            "layout": "IPY_MODEL_d8205c46a1724aabb973b6dafa7dd4c0",
            "placeholder": "​",
            "style": "IPY_MODEL_1589db3968784654be43a4e81f2f9bb7",
            "value": " 439M/439M [00:02&lt;00:00, 159MB/s]"
          }
        },
        "4ffe944e3d5447bbaa0cdd6a4e79a0f0": {
          "model_module": "@jupyter-widgets/base",
          "model_name": "LayoutModel",
          "model_module_version": "1.2.0",
          "state": {
            "_model_module": "@jupyter-widgets/base",
            "_model_module_version": "1.2.0",
            "_model_name": "LayoutModel",
            "_view_count": null,
            "_view_module": "@jupyter-widgets/base",
            "_view_module_version": "1.2.0",
            "_view_name": "LayoutView",
            "align_content": null,
            "align_items": null,
            "align_self": null,
            "border": null,
            "bottom": null,
            "display": null,
            "flex": null,
            "flex_flow": null,
            "grid_area": null,
            "grid_auto_columns": null,
            "grid_auto_flow": null,
            "grid_auto_rows": null,
            "grid_column": null,
            "grid_gap": null,
            "grid_row": null,
            "grid_template_areas": null,
            "grid_template_columns": null,
            "grid_template_rows": null,
            "height": null,
            "justify_content": null,
            "justify_items": null,
            "left": null,
            "margin": null,
            "max_height": null,
            "max_width": null,
            "min_height": null,
            "min_width": null,
            "object_fit": null,
            "object_position": null,
            "order": null,
            "overflow": null,
            "overflow_x": null,
            "overflow_y": null,
            "padding": null,
            "right": null,
            "top": null,
            "visibility": null,
            "width": null
          }
        },
        "d583277353414bb6af195af80adc1b57": {
          "model_module": "@jupyter-widgets/base",
          "model_name": "LayoutModel",
          "model_module_version": "1.2.0",
          "state": {
            "_model_module": "@jupyter-widgets/base",
            "_model_module_version": "1.2.0",
            "_model_name": "LayoutModel",
            "_view_count": null,
            "_view_module": "@jupyter-widgets/base",
            "_view_module_version": "1.2.0",
            "_view_name": "LayoutView",
            "align_content": null,
            "align_items": null,
            "align_self": null,
            "border": null,
            "bottom": null,
            "display": null,
            "flex": null,
            "flex_flow": null,
            "grid_area": null,
            "grid_auto_columns": null,
            "grid_auto_flow": null,
            "grid_auto_rows": null,
            "grid_column": null,
            "grid_gap": null,
            "grid_row": null,
            "grid_template_areas": null,
            "grid_template_columns": null,
            "grid_template_rows": null,
            "height": null,
            "justify_content": null,
            "justify_items": null,
            "left": null,
            "margin": null,
            "max_height": null,
            "max_width": null,
            "min_height": null,
            "min_width": null,
            "object_fit": null,
            "object_position": null,
            "order": null,
            "overflow": null,
            "overflow_x": null,
            "overflow_y": null,
            "padding": null,
            "right": null,
            "top": null,
            "visibility": null,
            "width": null
          }
        },
        "bcf097765eca4398970b5836ec113b91": {
          "model_module": "@jupyter-widgets/controls",
          "model_name": "DescriptionStyleModel",
          "model_module_version": "1.5.0",
          "state": {
            "_model_module": "@jupyter-widgets/controls",
            "_model_module_version": "1.5.0",
            "_model_name": "DescriptionStyleModel",
            "_view_count": null,
            "_view_module": "@jupyter-widgets/base",
            "_view_module_version": "1.2.0",
            "_view_name": "StyleView",
            "description_width": ""
          }
        },
        "b279ff7b7e5443b5b31a54f4dae3eade": {
          "model_module": "@jupyter-widgets/base",
          "model_name": "LayoutModel",
          "model_module_version": "1.2.0",
          "state": {
            "_model_module": "@jupyter-widgets/base",
            "_model_module_version": "1.2.0",
            "_model_name": "LayoutModel",
            "_view_count": null,
            "_view_module": "@jupyter-widgets/base",
            "_view_module_version": "1.2.0",
            "_view_name": "LayoutView",
            "align_content": null,
            "align_items": null,
            "align_self": null,
            "border": null,
            "bottom": null,
            "display": null,
            "flex": null,
            "flex_flow": null,
            "grid_area": null,
            "grid_auto_columns": null,
            "grid_auto_flow": null,
            "grid_auto_rows": null,
            "grid_column": null,
            "grid_gap": null,
            "grid_row": null,
            "grid_template_areas": null,
            "grid_template_columns": null,
            "grid_template_rows": null,
            "height": null,
            "justify_content": null,
            "justify_items": null,
            "left": null,
            "margin": null,
            "max_height": null,
            "max_width": null,
            "min_height": null,
            "min_width": null,
            "object_fit": null,
            "object_position": null,
            "order": null,
            "overflow": null,
            "overflow_x": null,
            "overflow_y": null,
            "padding": null,
            "right": null,
            "top": null,
            "visibility": null,
            "width": null
          }
        },
        "19492cad13364da3a8cc4b53ba552f7d": {
          "model_module": "@jupyter-widgets/controls",
          "model_name": "ProgressStyleModel",
          "model_module_version": "1.5.0",
          "state": {
            "_model_module": "@jupyter-widgets/controls",
            "_model_module_version": "1.5.0",
            "_model_name": "ProgressStyleModel",
            "_view_count": null,
            "_view_module": "@jupyter-widgets/base",
            "_view_module_version": "1.2.0",
            "_view_name": "StyleView",
            "bar_color": null,
            "description_width": ""
          }
        },
        "d8205c46a1724aabb973b6dafa7dd4c0": {
          "model_module": "@jupyter-widgets/base",
          "model_name": "LayoutModel",
          "model_module_version": "1.2.0",
          "state": {
            "_model_module": "@jupyter-widgets/base",
            "_model_module_version": "1.2.0",
            "_model_name": "LayoutModel",
            "_view_count": null,
            "_view_module": "@jupyter-widgets/base",
            "_view_module_version": "1.2.0",
            "_view_name": "LayoutView",
            "align_content": null,
            "align_items": null,
            "align_self": null,
            "border": null,
            "bottom": null,
            "display": null,
            "flex": null,
            "flex_flow": null,
            "grid_area": null,
            "grid_auto_columns": null,
            "grid_auto_flow": null,
            "grid_auto_rows": null,
            "grid_column": null,
            "grid_gap": null,
            "grid_row": null,
            "grid_template_areas": null,
            "grid_template_columns": null,
            "grid_template_rows": null,
            "height": null,
            "justify_content": null,
            "justify_items": null,
            "left": null,
            "margin": null,
            "max_height": null,
            "max_width": null,
            "min_height": null,
            "min_width": null,
            "object_fit": null,
            "object_position": null,
            "order": null,
            "overflow": null,
            "overflow_x": null,
            "overflow_y": null,
            "padding": null,
            "right": null,
            "top": null,
            "visibility": null,
            "width": null
          }
        },
        "1589db3968784654be43a4e81f2f9bb7": {
          "model_module": "@jupyter-widgets/controls",
          "model_name": "DescriptionStyleModel",
          "model_module_version": "1.5.0",
          "state": {
            "_model_module": "@jupyter-widgets/controls",
            "_model_module_version": "1.5.0",
            "_model_name": "DescriptionStyleModel",
            "_view_count": null,
            "_view_module": "@jupyter-widgets/base",
            "_view_module_version": "1.2.0",
            "_view_name": "StyleView",
            "description_width": ""
          }
        },
        "8f72719d874447058acef76bd120f4aa": {
          "model_module": "@jupyter-widgets/controls",
          "model_name": "HBoxModel",
          "model_module_version": "1.5.0",
          "state": {
            "_dom_classes": [],
            "_model_module": "@jupyter-widgets/controls",
            "_model_module_version": "1.5.0",
            "_model_name": "HBoxModel",
            "_view_count": null,
            "_view_module": "@jupyter-widgets/controls",
            "_view_module_version": "1.5.0",
            "_view_name": "HBoxView",
            "box_style": "",
            "children": [
              "IPY_MODEL_2b5a00e9bdb24850ad71660c5e823198",
              "IPY_MODEL_374fb959aca24c95b39df441e0a06c22",
              "IPY_MODEL_20f4b7503d3140b8908bfc8511dd6c52"
            ],
            "layout": "IPY_MODEL_7a7d36d2c0384e49b4ee00b43a019060"
          }
        },
        "2b5a00e9bdb24850ad71660c5e823198": {
          "model_module": "@jupyter-widgets/controls",
          "model_name": "HTMLModel",
          "model_module_version": "1.5.0",
          "state": {
            "_dom_classes": [],
            "_model_module": "@jupyter-widgets/controls",
            "_model_module_version": "1.5.0",
            "_model_name": "HTMLModel",
            "_view_count": null,
            "_view_module": "@jupyter-widgets/controls",
            "_view_module_version": "1.5.0",
            "_view_name": "HTMLView",
            "description": "",
            "description_tooltip": null,
            "layout": "IPY_MODEL_d2208e693f0047879f47c389fbc2e632",
            "placeholder": "​",
            "style": "IPY_MODEL_cb70a2c7fca34d608dee8dc7a2f7cbc7",
            "value": "Downloading (…)solve/main/vocab.txt: 100%"
          }
        },
        "374fb959aca24c95b39df441e0a06c22": {
          "model_module": "@jupyter-widgets/controls",
          "model_name": "FloatProgressModel",
          "model_module_version": "1.5.0",
          "state": {
            "_dom_classes": [],
            "_model_module": "@jupyter-widgets/controls",
            "_model_module_version": "1.5.0",
            "_model_name": "FloatProgressModel",
            "_view_count": null,
            "_view_module": "@jupyter-widgets/controls",
            "_view_module_version": "1.5.0",
            "_view_name": "ProgressView",
            "bar_style": "success",
            "description": "",
            "description_tooltip": null,
            "layout": "IPY_MODEL_bd443f4ecd0547489e15a1f8f64b492d",
            "max": 226122,
            "min": 0,
            "orientation": "horizontal",
            "style": "IPY_MODEL_d425e7e1976c45e4957e652b3de26960",
            "value": 226122
          }
        },
        "20f4b7503d3140b8908bfc8511dd6c52": {
          "model_module": "@jupyter-widgets/controls",
          "model_name": "HTMLModel",
          "model_module_version": "1.5.0",
          "state": {
            "_dom_classes": [],
            "_model_module": "@jupyter-widgets/controls",
            "_model_module_version": "1.5.0",
            "_model_name": "HTMLModel",
            "_view_count": null,
            "_view_module": "@jupyter-widgets/controls",
            "_view_module_version": "1.5.0",
            "_view_name": "HTMLView",
            "description": "",
            "description_tooltip": null,
            "layout": "IPY_MODEL_10e99b2d3d414af3b968820b6ad6910b",
            "placeholder": "​",
            "style": "IPY_MODEL_912054b974474b25a323a9984f5250e5",
            "value": " 226k/226k [00:00&lt;00:00, 5.13MB/s]"
          }
        },
        "7a7d36d2c0384e49b4ee00b43a019060": {
          "model_module": "@jupyter-widgets/base",
          "model_name": "LayoutModel",
          "model_module_version": "1.2.0",
          "state": {
            "_model_module": "@jupyter-widgets/base",
            "_model_module_version": "1.2.0",
            "_model_name": "LayoutModel",
            "_view_count": null,
            "_view_module": "@jupyter-widgets/base",
            "_view_module_version": "1.2.0",
            "_view_name": "LayoutView",
            "align_content": null,
            "align_items": null,
            "align_self": null,
            "border": null,
            "bottom": null,
            "display": null,
            "flex": null,
            "flex_flow": null,
            "grid_area": null,
            "grid_auto_columns": null,
            "grid_auto_flow": null,
            "grid_auto_rows": null,
            "grid_column": null,
            "grid_gap": null,
            "grid_row": null,
            "grid_template_areas": null,
            "grid_template_columns": null,
            "grid_template_rows": null,
            "height": null,
            "justify_content": null,
            "justify_items": null,
            "left": null,
            "margin": null,
            "max_height": null,
            "max_width": null,
            "min_height": null,
            "min_width": null,
            "object_fit": null,
            "object_position": null,
            "order": null,
            "overflow": null,
            "overflow_x": null,
            "overflow_y": null,
            "padding": null,
            "right": null,
            "top": null,
            "visibility": null,
            "width": null
          }
        },
        "d2208e693f0047879f47c389fbc2e632": {
          "model_module": "@jupyter-widgets/base",
          "model_name": "LayoutModel",
          "model_module_version": "1.2.0",
          "state": {
            "_model_module": "@jupyter-widgets/base",
            "_model_module_version": "1.2.0",
            "_model_name": "LayoutModel",
            "_view_count": null,
            "_view_module": "@jupyter-widgets/base",
            "_view_module_version": "1.2.0",
            "_view_name": "LayoutView",
            "align_content": null,
            "align_items": null,
            "align_self": null,
            "border": null,
            "bottom": null,
            "display": null,
            "flex": null,
            "flex_flow": null,
            "grid_area": null,
            "grid_auto_columns": null,
            "grid_auto_flow": null,
            "grid_auto_rows": null,
            "grid_column": null,
            "grid_gap": null,
            "grid_row": null,
            "grid_template_areas": null,
            "grid_template_columns": null,
            "grid_template_rows": null,
            "height": null,
            "justify_content": null,
            "justify_items": null,
            "left": null,
            "margin": null,
            "max_height": null,
            "max_width": null,
            "min_height": null,
            "min_width": null,
            "object_fit": null,
            "object_position": null,
            "order": null,
            "overflow": null,
            "overflow_x": null,
            "overflow_y": null,
            "padding": null,
            "right": null,
            "top": null,
            "visibility": null,
            "width": null
          }
        },
        "cb70a2c7fca34d608dee8dc7a2f7cbc7": {
          "model_module": "@jupyter-widgets/controls",
          "model_name": "DescriptionStyleModel",
          "model_module_version": "1.5.0",
          "state": {
            "_model_module": "@jupyter-widgets/controls",
            "_model_module_version": "1.5.0",
            "_model_name": "DescriptionStyleModel",
            "_view_count": null,
            "_view_module": "@jupyter-widgets/base",
            "_view_module_version": "1.2.0",
            "_view_name": "StyleView",
            "description_width": ""
          }
        },
        "bd443f4ecd0547489e15a1f8f64b492d": {
          "model_module": "@jupyter-widgets/base",
          "model_name": "LayoutModel",
          "model_module_version": "1.2.0",
          "state": {
            "_model_module": "@jupyter-widgets/base",
            "_model_module_version": "1.2.0",
            "_model_name": "LayoutModel",
            "_view_count": null,
            "_view_module": "@jupyter-widgets/base",
            "_view_module_version": "1.2.0",
            "_view_name": "LayoutView",
            "align_content": null,
            "align_items": null,
            "align_self": null,
            "border": null,
            "bottom": null,
            "display": null,
            "flex": null,
            "flex_flow": null,
            "grid_area": null,
            "grid_auto_columns": null,
            "grid_auto_flow": null,
            "grid_auto_rows": null,
            "grid_column": null,
            "grid_gap": null,
            "grid_row": null,
            "grid_template_areas": null,
            "grid_template_columns": null,
            "grid_template_rows": null,
            "height": null,
            "justify_content": null,
            "justify_items": null,
            "left": null,
            "margin": null,
            "max_height": null,
            "max_width": null,
            "min_height": null,
            "min_width": null,
            "object_fit": null,
            "object_position": null,
            "order": null,
            "overflow": null,
            "overflow_x": null,
            "overflow_y": null,
            "padding": null,
            "right": null,
            "top": null,
            "visibility": null,
            "width": null
          }
        },
        "d425e7e1976c45e4957e652b3de26960": {
          "model_module": "@jupyter-widgets/controls",
          "model_name": "ProgressStyleModel",
          "model_module_version": "1.5.0",
          "state": {
            "_model_module": "@jupyter-widgets/controls",
            "_model_module_version": "1.5.0",
            "_model_name": "ProgressStyleModel",
            "_view_count": null,
            "_view_module": "@jupyter-widgets/base",
            "_view_module_version": "1.2.0",
            "_view_name": "StyleView",
            "bar_color": null,
            "description_width": ""
          }
        },
        "10e99b2d3d414af3b968820b6ad6910b": {
          "model_module": "@jupyter-widgets/base",
          "model_name": "LayoutModel",
          "model_module_version": "1.2.0",
          "state": {
            "_model_module": "@jupyter-widgets/base",
            "_model_module_version": "1.2.0",
            "_model_name": "LayoutModel",
            "_view_count": null,
            "_view_module": "@jupyter-widgets/base",
            "_view_module_version": "1.2.0",
            "_view_name": "LayoutView",
            "align_content": null,
            "align_items": null,
            "align_self": null,
            "border": null,
            "bottom": null,
            "display": null,
            "flex": null,
            "flex_flow": null,
            "grid_area": null,
            "grid_auto_columns": null,
            "grid_auto_flow": null,
            "grid_auto_rows": null,
            "grid_column": null,
            "grid_gap": null,
            "grid_row": null,
            "grid_template_areas": null,
            "grid_template_columns": null,
            "grid_template_rows": null,
            "height": null,
            "justify_content": null,
            "justify_items": null,
            "left": null,
            "margin": null,
            "max_height": null,
            "max_width": null,
            "min_height": null,
            "min_width": null,
            "object_fit": null,
            "object_position": null,
            "order": null,
            "overflow": null,
            "overflow_x": null,
            "overflow_y": null,
            "padding": null,
            "right": null,
            "top": null,
            "visibility": null,
            "width": null
          }
        },
        "912054b974474b25a323a9984f5250e5": {
          "model_module": "@jupyter-widgets/controls",
          "model_name": "DescriptionStyleModel",
          "model_module_version": "1.5.0",
          "state": {
            "_model_module": "@jupyter-widgets/controls",
            "_model_module_version": "1.5.0",
            "_model_name": "DescriptionStyleModel",
            "_view_count": null,
            "_view_module": "@jupyter-widgets/base",
            "_view_module_version": "1.2.0",
            "_view_name": "StyleView",
            "description_width": ""
          }
        },
        "3c951a452ef24eb99336035bb4bfa825": {
          "model_module": "@jupyter-widgets/controls",
          "model_name": "HBoxModel",
          "model_module_version": "1.5.0",
          "state": {
            "_dom_classes": [],
            "_model_module": "@jupyter-widgets/controls",
            "_model_module_version": "1.5.0",
            "_model_name": "HBoxModel",
            "_view_count": null,
            "_view_module": "@jupyter-widgets/controls",
            "_view_module_version": "1.5.0",
            "_view_name": "HBoxView",
            "box_style": "",
            "children": [
              "IPY_MODEL_be2a2926d6304ea4ba8bd0f7d523e6f4",
              "IPY_MODEL_d167478fe6484c198d24cb8093e2c0b6",
              "IPY_MODEL_851b26ea678c4c069c9b5cb9a4af1054"
            ],
            "layout": "IPY_MODEL_87b5605e82424c01a3ed31ec641bd416"
          }
        },
        "be2a2926d6304ea4ba8bd0f7d523e6f4": {
          "model_module": "@jupyter-widgets/controls",
          "model_name": "HTMLModel",
          "model_module_version": "1.5.0",
          "state": {
            "_dom_classes": [],
            "_model_module": "@jupyter-widgets/controls",
            "_model_module_version": "1.5.0",
            "_model_name": "HTMLModel",
            "_view_count": null,
            "_view_module": "@jupyter-widgets/controls",
            "_view_module_version": "1.5.0",
            "_view_name": "HTMLView",
            "description": "",
            "description_tooltip": null,
            "layout": "IPY_MODEL_41e2d9320b7d4f05b186a2a298e61a03",
            "placeholder": "​",
            "style": "IPY_MODEL_75e635979cbb4718b8869b9a11367474",
            "value": "100%"
          }
        },
        "d167478fe6484c198d24cb8093e2c0b6": {
          "model_module": "@jupyter-widgets/controls",
          "model_name": "FloatProgressModel",
          "model_module_version": "1.5.0",
          "state": {
            "_dom_classes": [],
            "_model_module": "@jupyter-widgets/controls",
            "_model_module_version": "1.5.0",
            "_model_name": "FloatProgressModel",
            "_view_count": null,
            "_view_module": "@jupyter-widgets/controls",
            "_view_module_version": "1.5.0",
            "_view_name": "ProgressView",
            "bar_style": "success",
            "description": "",
            "description_tooltip": null,
            "layout": "IPY_MODEL_73276838e60142e0bfdc8f67d8da2957",
            "max": 26412,
            "min": 0,
            "orientation": "horizontal",
            "style": "IPY_MODEL_4e4fecbfc08a403e8d4fd8ff3eaeca54",
            "value": 26412
          }
        },
        "851b26ea678c4c069c9b5cb9a4af1054": {
          "model_module": "@jupyter-widgets/controls",
          "model_name": "HTMLModel",
          "model_module_version": "1.5.0",
          "state": {
            "_dom_classes": [],
            "_model_module": "@jupyter-widgets/controls",
            "_model_module_version": "1.5.0",
            "_model_name": "HTMLModel",
            "_view_count": null,
            "_view_module": "@jupyter-widgets/controls",
            "_view_module_version": "1.5.0",
            "_view_name": "HTMLView",
            "description": "",
            "description_tooltip": null,
            "layout": "IPY_MODEL_2ddc12d2f4264924b991a3ee2b2788fe",
            "placeholder": "​",
            "style": "IPY_MODEL_9c08679b3f294a04a8d647916bbf2571",
            "value": " 26412/26412 [06:05&lt;00:00, 79.54it/s]"
          }
        },
        "87b5605e82424c01a3ed31ec641bd416": {
          "model_module": "@jupyter-widgets/base",
          "model_name": "LayoutModel",
          "model_module_version": "1.2.0",
          "state": {
            "_model_module": "@jupyter-widgets/base",
            "_model_module_version": "1.2.0",
            "_model_name": "LayoutModel",
            "_view_count": null,
            "_view_module": "@jupyter-widgets/base",
            "_view_module_version": "1.2.0",
            "_view_name": "LayoutView",
            "align_content": null,
            "align_items": null,
            "align_self": null,
            "border": null,
            "bottom": null,
            "display": null,
            "flex": null,
            "flex_flow": null,
            "grid_area": null,
            "grid_auto_columns": null,
            "grid_auto_flow": null,
            "grid_auto_rows": null,
            "grid_column": null,
            "grid_gap": null,
            "grid_row": null,
            "grid_template_areas": null,
            "grid_template_columns": null,
            "grid_template_rows": null,
            "height": null,
            "justify_content": null,
            "justify_items": null,
            "left": null,
            "margin": null,
            "max_height": null,
            "max_width": null,
            "min_height": null,
            "min_width": null,
            "object_fit": null,
            "object_position": null,
            "order": null,
            "overflow": null,
            "overflow_x": null,
            "overflow_y": null,
            "padding": null,
            "right": null,
            "top": null,
            "visibility": null,
            "width": null
          }
        },
        "41e2d9320b7d4f05b186a2a298e61a03": {
          "model_module": "@jupyter-widgets/base",
          "model_name": "LayoutModel",
          "model_module_version": "1.2.0",
          "state": {
            "_model_module": "@jupyter-widgets/base",
            "_model_module_version": "1.2.0",
            "_model_name": "LayoutModel",
            "_view_count": null,
            "_view_module": "@jupyter-widgets/base",
            "_view_module_version": "1.2.0",
            "_view_name": "LayoutView",
            "align_content": null,
            "align_items": null,
            "align_self": null,
            "border": null,
            "bottom": null,
            "display": null,
            "flex": null,
            "flex_flow": null,
            "grid_area": null,
            "grid_auto_columns": null,
            "grid_auto_flow": null,
            "grid_auto_rows": null,
            "grid_column": null,
            "grid_gap": null,
            "grid_row": null,
            "grid_template_areas": null,
            "grid_template_columns": null,
            "grid_template_rows": null,
            "height": null,
            "justify_content": null,
            "justify_items": null,
            "left": null,
            "margin": null,
            "max_height": null,
            "max_width": null,
            "min_height": null,
            "min_width": null,
            "object_fit": null,
            "object_position": null,
            "order": null,
            "overflow": null,
            "overflow_x": null,
            "overflow_y": null,
            "padding": null,
            "right": null,
            "top": null,
            "visibility": null,
            "width": null
          }
        },
        "75e635979cbb4718b8869b9a11367474": {
          "model_module": "@jupyter-widgets/controls",
          "model_name": "DescriptionStyleModel",
          "model_module_version": "1.5.0",
          "state": {
            "_model_module": "@jupyter-widgets/controls",
            "_model_module_version": "1.5.0",
            "_model_name": "DescriptionStyleModel",
            "_view_count": null,
            "_view_module": "@jupyter-widgets/base",
            "_view_module_version": "1.2.0",
            "_view_name": "StyleView",
            "description_width": ""
          }
        },
        "73276838e60142e0bfdc8f67d8da2957": {
          "model_module": "@jupyter-widgets/base",
          "model_name": "LayoutModel",
          "model_module_version": "1.2.0",
          "state": {
            "_model_module": "@jupyter-widgets/base",
            "_model_module_version": "1.2.0",
            "_model_name": "LayoutModel",
            "_view_count": null,
            "_view_module": "@jupyter-widgets/base",
            "_view_module_version": "1.2.0",
            "_view_name": "LayoutView",
            "align_content": null,
            "align_items": null,
            "align_self": null,
            "border": null,
            "bottom": null,
            "display": null,
            "flex": null,
            "flex_flow": null,
            "grid_area": null,
            "grid_auto_columns": null,
            "grid_auto_flow": null,
            "grid_auto_rows": null,
            "grid_column": null,
            "grid_gap": null,
            "grid_row": null,
            "grid_template_areas": null,
            "grid_template_columns": null,
            "grid_template_rows": null,
            "height": null,
            "justify_content": null,
            "justify_items": null,
            "left": null,
            "margin": null,
            "max_height": null,
            "max_width": null,
            "min_height": null,
            "min_width": null,
            "object_fit": null,
            "object_position": null,
            "order": null,
            "overflow": null,
            "overflow_x": null,
            "overflow_y": null,
            "padding": null,
            "right": null,
            "top": null,
            "visibility": null,
            "width": null
          }
        },
        "4e4fecbfc08a403e8d4fd8ff3eaeca54": {
          "model_module": "@jupyter-widgets/controls",
          "model_name": "ProgressStyleModel",
          "model_module_version": "1.5.0",
          "state": {
            "_model_module": "@jupyter-widgets/controls",
            "_model_module_version": "1.5.0",
            "_model_name": "ProgressStyleModel",
            "_view_count": null,
            "_view_module": "@jupyter-widgets/base",
            "_view_module_version": "1.2.0",
            "_view_name": "StyleView",
            "bar_color": null,
            "description_width": ""
          }
        },
        "2ddc12d2f4264924b991a3ee2b2788fe": {
          "model_module": "@jupyter-widgets/base",
          "model_name": "LayoutModel",
          "model_module_version": "1.2.0",
          "state": {
            "_model_module": "@jupyter-widgets/base",
            "_model_module_version": "1.2.0",
            "_model_name": "LayoutModel",
            "_view_count": null,
            "_view_module": "@jupyter-widgets/base",
            "_view_module_version": "1.2.0",
            "_view_name": "LayoutView",
            "align_content": null,
            "align_items": null,
            "align_self": null,
            "border": null,
            "bottom": null,
            "display": null,
            "flex": null,
            "flex_flow": null,
            "grid_area": null,
            "grid_auto_columns": null,
            "grid_auto_flow": null,
            "grid_auto_rows": null,
            "grid_column": null,
            "grid_gap": null,
            "grid_row": null,
            "grid_template_areas": null,
            "grid_template_columns": null,
            "grid_template_rows": null,
            "height": null,
            "justify_content": null,
            "justify_items": null,
            "left": null,
            "margin": null,
            "max_height": null,
            "max_width": null,
            "min_height": null,
            "min_width": null,
            "object_fit": null,
            "object_position": null,
            "order": null,
            "overflow": null,
            "overflow_x": null,
            "overflow_y": null,
            "padding": null,
            "right": null,
            "top": null,
            "visibility": null,
            "width": null
          }
        },
        "9c08679b3f294a04a8d647916bbf2571": {
          "model_module": "@jupyter-widgets/controls",
          "model_name": "DescriptionStyleModel",
          "model_module_version": "1.5.0",
          "state": {
            "_model_module": "@jupyter-widgets/controls",
            "_model_module_version": "1.5.0",
            "_model_name": "DescriptionStyleModel",
            "_view_count": null,
            "_view_module": "@jupyter-widgets/base",
            "_view_module_version": "1.2.0",
            "_view_name": "StyleView",
            "description_width": ""
          }
        }
      }
    }
  },
  "nbformat": 4,
  "nbformat_minor": 0
}